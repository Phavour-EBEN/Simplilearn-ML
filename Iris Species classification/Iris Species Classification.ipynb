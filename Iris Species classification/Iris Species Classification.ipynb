{
 "cells": [
  {
   "cell_type": "code",
   "execution_count": 1,
   "id": "82f0dd54",
   "metadata": {},
   "outputs": [],
   "source": [
    "import pandas as pd\n",
    "import numpy as np\n",
    "import seaborn as sns\n",
    "import matplotlib.pyplot as plt"
   ]
  },
  {
   "cell_type": "code",
   "execution_count": 2,
   "id": "8f35e2af",
   "metadata": {},
   "outputs": [],
   "source": [
    "from sklearn.datasets import load_iris"
   ]
  },
  {
   "cell_type": "code",
   "execution_count": 3,
   "id": "676c0182",
   "metadata": {},
   "outputs": [],
   "source": [
    "iris = load_iris()\n",
    "iris.keys()\n",
    "iris.target\n",
    "iris.target_names\n",
    "iris.feature_names\n",
    "\n",
    "iris_df = pd.DataFrame(iris.data)"
   ]
  },
  {
   "cell_type": "code",
   "execution_count": 4,
   "id": "0ecfd29e",
   "metadata": {},
   "outputs": [
    {
     "data": {
      "text/html": [
       "<div>\n",
       "<style scoped>\n",
       "    .dataframe tbody tr th:only-of-type {\n",
       "        vertical-align: middle;\n",
       "    }\n",
       "\n",
       "    .dataframe tbody tr th {\n",
       "        vertical-align: top;\n",
       "    }\n",
       "\n",
       "    .dataframe thead th {\n",
       "        text-align: right;\n",
       "    }\n",
       "</style>\n",
       "<table border=\"1\" class=\"dataframe\">\n",
       "  <thead>\n",
       "    <tr style=\"text-align: right;\">\n",
       "      <th></th>\n",
       "      <th>0</th>\n",
       "      <th>1</th>\n",
       "      <th>2</th>\n",
       "      <th>3</th>\n",
       "    </tr>\n",
       "  </thead>\n",
       "  <tbody>\n",
       "    <tr>\n",
       "      <th>0</th>\n",
       "      <td>5.1</td>\n",
       "      <td>3.5</td>\n",
       "      <td>1.4</td>\n",
       "      <td>0.2</td>\n",
       "    </tr>\n",
       "    <tr>\n",
       "      <th>1</th>\n",
       "      <td>4.9</td>\n",
       "      <td>3.0</td>\n",
       "      <td>1.4</td>\n",
       "      <td>0.2</td>\n",
       "    </tr>\n",
       "    <tr>\n",
       "      <th>2</th>\n",
       "      <td>4.7</td>\n",
       "      <td>3.2</td>\n",
       "      <td>1.3</td>\n",
       "      <td>0.2</td>\n",
       "    </tr>\n",
       "    <tr>\n",
       "      <th>3</th>\n",
       "      <td>4.6</td>\n",
       "      <td>3.1</td>\n",
       "      <td>1.5</td>\n",
       "      <td>0.2</td>\n",
       "    </tr>\n",
       "    <tr>\n",
       "      <th>4</th>\n",
       "      <td>5.0</td>\n",
       "      <td>3.6</td>\n",
       "      <td>1.4</td>\n",
       "      <td>0.2</td>\n",
       "    </tr>\n",
       "    <tr>\n",
       "      <th>...</th>\n",
       "      <td>...</td>\n",
       "      <td>...</td>\n",
       "      <td>...</td>\n",
       "      <td>...</td>\n",
       "    </tr>\n",
       "    <tr>\n",
       "      <th>145</th>\n",
       "      <td>6.7</td>\n",
       "      <td>3.0</td>\n",
       "      <td>5.2</td>\n",
       "      <td>2.3</td>\n",
       "    </tr>\n",
       "    <tr>\n",
       "      <th>146</th>\n",
       "      <td>6.3</td>\n",
       "      <td>2.5</td>\n",
       "      <td>5.0</td>\n",
       "      <td>1.9</td>\n",
       "    </tr>\n",
       "    <tr>\n",
       "      <th>147</th>\n",
       "      <td>6.5</td>\n",
       "      <td>3.0</td>\n",
       "      <td>5.2</td>\n",
       "      <td>2.0</td>\n",
       "    </tr>\n",
       "    <tr>\n",
       "      <th>148</th>\n",
       "      <td>6.2</td>\n",
       "      <td>3.4</td>\n",
       "      <td>5.4</td>\n",
       "      <td>2.3</td>\n",
       "    </tr>\n",
       "    <tr>\n",
       "      <th>149</th>\n",
       "      <td>5.9</td>\n",
       "      <td>3.0</td>\n",
       "      <td>5.1</td>\n",
       "      <td>1.8</td>\n",
       "    </tr>\n",
       "  </tbody>\n",
       "</table>\n",
       "<p>150 rows × 4 columns</p>\n",
       "</div>"
      ],
      "text/plain": [
       "       0    1    2    3\n",
       "0    5.1  3.5  1.4  0.2\n",
       "1    4.9  3.0  1.4  0.2\n",
       "2    4.7  3.2  1.3  0.2\n",
       "3    4.6  3.1  1.5  0.2\n",
       "4    5.0  3.6  1.4  0.2\n",
       "..   ...  ...  ...  ...\n",
       "145  6.7  3.0  5.2  2.3\n",
       "146  6.3  2.5  5.0  1.9\n",
       "147  6.5  3.0  5.2  2.0\n",
       "148  6.2  3.4  5.4  2.3\n",
       "149  5.9  3.0  5.1  1.8\n",
       "\n",
       "[150 rows x 4 columns]"
      ]
     },
     "execution_count": 4,
     "metadata": {},
     "output_type": "execute_result"
    }
   ],
   "source": [
    "iris_df"
   ]
  },
  {
   "cell_type": "code",
   "execution_count": 5,
   "id": "ab92af43",
   "metadata": {},
   "outputs": [
    {
     "data": {
      "text/plain": [
       "dict_keys(['data', 'target', 'frame', 'target_names', 'DESCR', 'feature_names', 'filename', 'data_module'])"
      ]
     },
     "execution_count": 5,
     "metadata": {},
     "output_type": "execute_result"
    }
   ],
   "source": [
    "iris.keys()"
   ]
  },
  {
   "cell_type": "code",
   "execution_count": 6,
   "id": "ba6495ae",
   "metadata": {},
   "outputs": [
    {
     "data": {
      "text/html": [
       "<div>\n",
       "<style scoped>\n",
       "    .dataframe tbody tr th:only-of-type {\n",
       "        vertical-align: middle;\n",
       "    }\n",
       "\n",
       "    .dataframe tbody tr th {\n",
       "        vertical-align: top;\n",
       "    }\n",
       "\n",
       "    .dataframe thead th {\n",
       "        text-align: right;\n",
       "    }\n",
       "</style>\n",
       "<table border=\"1\" class=\"dataframe\">\n",
       "  <thead>\n",
       "    <tr style=\"text-align: right;\">\n",
       "      <th></th>\n",
       "      <th>sepal length (cm)</th>\n",
       "      <th>sepal width (cm)</th>\n",
       "      <th>petal length (cm)</th>\n",
       "      <th>petal width (cm)</th>\n",
       "    </tr>\n",
       "  </thead>\n",
       "  <tbody>\n",
       "    <tr>\n",
       "      <th>0</th>\n",
       "      <td>5.1</td>\n",
       "      <td>3.5</td>\n",
       "      <td>1.4</td>\n",
       "      <td>0.2</td>\n",
       "    </tr>\n",
       "    <tr>\n",
       "      <th>1</th>\n",
       "      <td>4.9</td>\n",
       "      <td>3.0</td>\n",
       "      <td>1.4</td>\n",
       "      <td>0.2</td>\n",
       "    </tr>\n",
       "    <tr>\n",
       "      <th>2</th>\n",
       "      <td>4.7</td>\n",
       "      <td>3.2</td>\n",
       "      <td>1.3</td>\n",
       "      <td>0.2</td>\n",
       "    </tr>\n",
       "    <tr>\n",
       "      <th>3</th>\n",
       "      <td>4.6</td>\n",
       "      <td>3.1</td>\n",
       "      <td>1.5</td>\n",
       "      <td>0.2</td>\n",
       "    </tr>\n",
       "    <tr>\n",
       "      <th>4</th>\n",
       "      <td>5.0</td>\n",
       "      <td>3.6</td>\n",
       "      <td>1.4</td>\n",
       "      <td>0.2</td>\n",
       "    </tr>\n",
       "    <tr>\n",
       "      <th>...</th>\n",
       "      <td>...</td>\n",
       "      <td>...</td>\n",
       "      <td>...</td>\n",
       "      <td>...</td>\n",
       "    </tr>\n",
       "    <tr>\n",
       "      <th>145</th>\n",
       "      <td>6.7</td>\n",
       "      <td>3.0</td>\n",
       "      <td>5.2</td>\n",
       "      <td>2.3</td>\n",
       "    </tr>\n",
       "    <tr>\n",
       "      <th>146</th>\n",
       "      <td>6.3</td>\n",
       "      <td>2.5</td>\n",
       "      <td>5.0</td>\n",
       "      <td>1.9</td>\n",
       "    </tr>\n",
       "    <tr>\n",
       "      <th>147</th>\n",
       "      <td>6.5</td>\n",
       "      <td>3.0</td>\n",
       "      <td>5.2</td>\n",
       "      <td>2.0</td>\n",
       "    </tr>\n",
       "    <tr>\n",
       "      <th>148</th>\n",
       "      <td>6.2</td>\n",
       "      <td>3.4</td>\n",
       "      <td>5.4</td>\n",
       "      <td>2.3</td>\n",
       "    </tr>\n",
       "    <tr>\n",
       "      <th>149</th>\n",
       "      <td>5.9</td>\n",
       "      <td>3.0</td>\n",
       "      <td>5.1</td>\n",
       "      <td>1.8</td>\n",
       "    </tr>\n",
       "  </tbody>\n",
       "</table>\n",
       "<p>150 rows × 4 columns</p>\n",
       "</div>"
      ],
      "text/plain": [
       "     sepal length (cm)  sepal width (cm)  petal length (cm)  petal width (cm)\n",
       "0                  5.1               3.5                1.4               0.2\n",
       "1                  4.9               3.0                1.4               0.2\n",
       "2                  4.7               3.2                1.3               0.2\n",
       "3                  4.6               3.1                1.5               0.2\n",
       "4                  5.0               3.6                1.4               0.2\n",
       "..                 ...               ...                ...               ...\n",
       "145                6.7               3.0                5.2               2.3\n",
       "146                6.3               2.5                5.0               1.9\n",
       "147                6.5               3.0                5.2               2.0\n",
       "148                6.2               3.4                5.4               2.3\n",
       "149                5.9               3.0                5.1               1.8\n",
       "\n",
       "[150 rows x 4 columns]"
      ]
     },
     "execution_count": 6,
     "metadata": {},
     "output_type": "execute_result"
    }
   ],
   "source": [
    "iris_df.columns = iris.feature_names\n",
    "iris_df"
   ]
  },
  {
   "cell_type": "code",
   "execution_count": 7,
   "id": "d05bc427",
   "metadata": {},
   "outputs": [
    {
     "name": "stdout",
     "output_type": "stream",
     "text": [
      "<class 'pandas.core.frame.DataFrame'>\n",
      "RangeIndex: 150 entries, 0 to 149\n",
      "Data columns (total 4 columns):\n",
      " #   Column             Non-Null Count  Dtype  \n",
      "---  ------             --------------  -----  \n",
      " 0   sepal length (cm)  150 non-null    float64\n",
      " 1   sepal width (cm)   150 non-null    float64\n",
      " 2   petal length (cm)  150 non-null    float64\n",
      " 3   petal width (cm)   150 non-null    float64\n",
      "dtypes: float64(4)\n",
      "memory usage: 4.8 KB\n"
     ]
    }
   ],
   "source": [
    "iris_df.info()"
   ]
  },
  {
   "cell_type": "code",
   "execution_count": 8,
   "id": "17f065ba",
   "metadata": {},
   "outputs": [
    {
     "data": {
      "text/plain": [
       "sepal length (cm)    0\n",
       "sepal width (cm)     0\n",
       "petal length (cm)    0\n",
       "petal width (cm)     0\n",
       "dtype: int64"
      ]
     },
     "execution_count": 8,
     "metadata": {},
     "output_type": "execute_result"
    }
   ],
   "source": [
    "iris_df.isnull().sum()"
   ]
  },
  {
   "cell_type": "code",
   "execution_count": 9,
   "id": "589af463",
   "metadata": {},
   "outputs": [
    {
     "data": {
      "text/plain": [
       "Index(['sepal length (cm)', 'sepal width (cm)', 'petal length (cm)',\n",
       "       'petal width (cm)'],\n",
       "      dtype='object')"
      ]
     },
     "execution_count": 9,
     "metadata": {},
     "output_type": "execute_result"
    }
   ],
   "source": [
    "iris_df.columns"
   ]
  },
  {
   "cell_type": "code",
   "execution_count": 10,
   "id": "9ad1fbe8",
   "metadata": {},
   "outputs": [
    {
     "data": {
      "image/png": "[encoded data removed]",
      "text/plain": [
       "<Figure size 640x480 with 1 Axes>"
      ]
     },
     "metadata": {},
     "output_type": "display_data"
    },
    {
     "data": {
      "image/png": "[encoded data removed]",
      "text/plain": [
       "<Figure size 640x480 with 1 Axes>"
      ]
     },
     "metadata": {},
     "output_type": "display_data"
    },
    {
     "data": {
      "image/png": "[encoded data removed]",
      "text/plain": [
       "<Figure size 640x480 with 1 Axes>"
      ]
     },
     "metadata": {},
     "output_type": "display_data"
    },
    {
     "data": {
      "image/png": "[encoded data removed]",
      "text/plain": [
       "<Figure size 640x480 with 1 Axes>"
      ]
     },
     "metadata": {},
     "output_type": "display_data"
    }
   ],
   "source": [
    "# checking for outliers\n",
    "for i in iris_df.columns:\n",
    "    sns.boxplot(data = iris_df,x =i)\n",
    "    plt.show()"
   ]
  },
  {
   "cell_type": "code",
   "execution_count": 11,
   "id": "39f5ed84",
   "metadata": {},
   "outputs": [],
   "source": [
    "# model building\n",
    "from sklearn.model_selection import train_test_split"
   ]
  },
  {
   "cell_type": "code",
   "execution_count": 12,
   "id": "642c7dba",
   "metadata": {},
   "outputs": [],
   "source": [
    "X = iris.data[:,[2,3]]\n",
    "y = iris.target"
   ]
  },
  {
   "cell_type": "code",
   "execution_count": 13,
   "id": "77fdbb6f",
   "metadata": {},
   "outputs": [
    {
     "data": {
      "text/plain": [
       "array([0, 1, 2])"
      ]
     },
     "execution_count": 13,
     "metadata": {},
     "output_type": "execute_result"
    }
   ],
   "source": [
    "np.unique(y)"
   ]
  },
  {
   "cell_type": "code",
   "execution_count": 14,
   "id": "5f4b8612",
   "metadata": {},
   "outputs": [
    {
     "data": {
      "text/plain": [
       "array(['setosa', 'versicolor', 'virginica'], dtype='<U10')"
      ]
     },
     "execution_count": 14,
     "metadata": {},
     "output_type": "execute_result"
    }
   ],
   "source": [
    "iris.target_names"
   ]
  },
  {
   "cell_type": "code",
   "execution_count": 15,
   "id": "f8b8047d",
   "metadata": {},
   "outputs": [],
   "source": [
    "xtrain, xtest, ytrain, ytest = train_test_split(X, y, test_size=0.3,random_state=42,stratify=y)"
   ]
  },
  {
   "cell_type": "code",
   "execution_count": 16,
   "id": "01bff789",
   "metadata": {},
   "outputs": [
    {
     "name": "stdout",
     "output_type": "stream",
     "text": [
      "Label count in y:  [50 50 50]\n",
      "Label count in ytrain:  [35 35 35]\n",
      "Label count in ytest:  [15 15 15]\n"
     ]
    }
   ],
   "source": [
    "print('Label count in y: ',np.bincount(y))\n",
    "print('Label count in ytrain: ',np.bincount(ytrain))\n",
    "print('Label count in ytest: ',np.bincount(ytest))"
   ]
  },
  {
   "cell_type": "code",
   "execution_count": 17,
   "id": "9e4b417c",
   "metadata": {},
   "outputs": [],
   "source": [
    "# standardizing feature\n",
    "from sklearn.preprocessing import StandardScaler"
   ]
  },
  {
   "cell_type": "code",
   "execution_count": 18,
   "id": "8572f41b",
   "metadata": {},
   "outputs": [],
   "source": [
    "scaler = StandardScaler()\n",
    "scaler.fit(xtrain)\n",
    "\n",
    "xtrain_std = scaler.transform(xtrain)\n",
    "xtest_std = scaler.transform(xtest)"
   ]
  },
  {
   "cell_type": "code",
   "execution_count": 19,
   "id": "01e274bb",
   "metadata": {},
   "outputs": [
    {
     "data": {
      "text/plain": [
       "array([[-0.4419858 , -0.13661044],\n",
       "       [ 0.40282929,  0.38029394],\n",
       "       [-1.2868009 , -1.17041921],\n",
       "       [ 1.19132338,  1.41410271],\n",
       "       [ 0.17754527,  0.12184175],\n",
       "       [ 0.79707634,  1.41410271],\n",
       "       [-1.2868009 , -1.4288714 ],\n",
       "       [-1.23047989, -1.29964531],\n",
       "       [-1.3431219 , -1.29964531],\n",
       "       [ 1.19132338,  1.15565051],\n",
       "       [ 0.74075533,  1.02642442],\n",
       "       [-1.3431219 , -1.29964531],\n",
       "       [-1.23047989, -1.29964531],\n",
       "       [ 0.40282929,  0.38029394],\n",
       "       [ 0.00858225, -0.13661044],\n",
       "       [ 1.24764439,  0.76797223],\n",
       "       [-1.23047989, -1.04119311],\n",
       "       [-1.23047989, -1.29964531],\n",
       "       [ 1.07868137,  1.6725549 ],\n",
       "       [ 0.57179231,  0.76797223],\n",
       "       [-1.2868009 , -1.04119311],\n",
       "       [ 0.62811332,  0.76797223],\n",
       "       [ 1.58557043,  1.15565051],\n",
       "       [ 1.64189143,  1.02642442],\n",
       "       [ 0.23386627, -0.00738435],\n",
       "       [-1.3431219 , -1.17041921],\n",
       "       [-1.2868009 , -1.04119311],\n",
       "       [-1.39944291, -1.04119311],\n",
       "       [ 0.62811332,  0.38029394],\n",
       "       [ 0.12122426,  0.12184175],\n",
       "       [-1.2868009 , -1.04119311],\n",
       "       [-1.3431219 , -1.17041921],\n",
       "       [ 0.17754527, -0.26583654],\n",
       "       [-0.10405976,  0.12184175],\n",
       "       [-1.3431219 , -1.4288714 ],\n",
       "       [-1.3431219 , -1.17041921],\n",
       "       [ 0.34650829,  0.25106784],\n",
       "       [ 0.68443432,  0.89719832],\n",
       "       [ 1.47292841,  1.02642442],\n",
       "       [-1.3431219 , -1.29964531],\n",
       "       [ 1.02236036,  1.15565051],\n",
       "       [-1.3431219 , -1.29964531],\n",
       "       [ 0.68443432,  0.38029394],\n",
       "       [-1.39944291, -1.29964531],\n",
       "       [ 1.24764439,  1.6725549 ],\n",
       "       [ 0.12122426, -0.26583654],\n",
       "       [-1.06151687, -1.29964531],\n",
       "       [ 1.30396539,  1.41410271],\n",
       "       [ 0.12122426,  0.12184175],\n",
       "       [ 0.68443432,  1.02642442],\n",
       "       [ 0.06490325, -0.00738435],\n",
       "       [-1.39944291, -1.17041921],\n",
       "       [-0.04773876, -0.26583654],\n",
       "       [ 0.96603936,  0.76797223],\n",
       "       [ 0.4591503 ,  0.25106784],\n",
       "       [ 1.02236036,  0.76797223],\n",
       "       [-1.2868009 , -1.29964531],\n",
       "       [ 0.23386627,  0.12184175],\n",
       "       [-1.3431219 , -1.29964531],\n",
       "       [ 0.51547131,  0.38029394],\n",
       "       [ 0.57179231,  0.25106784],\n",
       "       [ 0.06490325,  0.25106784],\n",
       "       [ 1.30396539,  1.6725549 ],\n",
       "       [ 0.74075533,  0.50952003],\n",
       "       [ 0.29018728,  0.12184175],\n",
       "       [ 1.02236036,  1.5433288 ],\n",
       "       [ 0.62811332,  1.02642442],\n",
       "       [-1.2868009 , -1.29964531],\n",
       "       [ 1.07868137,  1.41410271],\n",
       "       [ 0.4591503 ,  0.38029394],\n",
       "       [ 0.17754527,  0.12184175],\n",
       "       [ 1.75453345,  1.41410271],\n",
       "       [-1.2868009 , -1.4288714 ],\n",
       "       [ 0.85339734,  1.41410271],\n",
       "       [ 0.74075533,  0.76797223],\n",
       "       [ 0.34650829,  0.12184175],\n",
       "       [-1.23047989, -1.29964531],\n",
       "       [ 1.64189143,  1.28487661],\n",
       "       [ 0.96603936,  1.15565051],\n",
       "       [-1.06151687, -1.04119311],\n",
       "       [-1.51208492, -1.4288714 ],\n",
       "       [ 0.57179231,  0.76797223],\n",
       "       [ 1.13500238,  0.50952003],\n",
       "       [ 0.74075533,  1.5433288 ],\n",
       "       [-1.17415888, -1.04119311],\n",
       "       [ 0.74075533,  0.89719832],\n",
       "       [-0.16038077, -0.26583654],\n",
       "       [ 1.07868137,  1.15565051],\n",
       "       [ 1.30396539,  0.89719832],\n",
       "       [-1.2868009 , -1.29964531],\n",
       "       [ 0.51547131, -0.00738435],\n",
       "       [ 0.34650829, -0.00738435],\n",
       "       [ 0.51547131,  0.25106784],\n",
       "       [ 0.62811332,  0.38029394],\n",
       "       [ 0.23386627,  0.38029394],\n",
       "       [-1.2868009 , -1.29964531],\n",
       "       [ 0.90971835,  1.15565051],\n",
       "       [ 0.12122426, -0.00738435],\n",
       "       [ 0.74075533,  0.89719832],\n",
       "       [-1.23047989, -1.29964531],\n",
       "       [-1.3431219 , -1.4288714 ],\n",
       "       [-0.16038077, -0.26583654],\n",
       "       [-1.3431219 , -1.29964531],\n",
       "       [ 0.23386627,  0.12184175],\n",
       "       [-1.2868009 , -1.29964531]])"
      ]
     },
     "execution_count": 19,
     "metadata": {},
     "output_type": "execute_result"
    }
   ],
   "source": [
    "xtrain_std"
   ]
  },
  {
   "cell_type": "code",
   "execution_count": 20,
   "id": "d952c164",
   "metadata": {},
   "outputs": [
    {
     "data": {
      "text/plain": [
       "array([[3. , 1.1],\n",
       "       [4.5, 1.5],\n",
       "       [1.5, 0.3],\n",
       "       [5.9, 2.3],\n",
       "       [4.1, 1.3],\n",
       "       [5.2, 2.3],\n",
       "       [1.5, 0.1],\n",
       "       [1.6, 0.2],\n",
       "       [1.4, 0.2],\n",
       "       [5.9, 2.1],\n",
       "       [5.1, 2. ],\n",
       "       [1.4, 0.2],\n",
       "       [1.6, 0.2],\n",
       "       [4.5, 1.5],\n",
       "       [3.8, 1.1],\n",
       "       [6. , 1.8],\n",
       "       [1.6, 0.4],\n",
       "       [1.6, 0.2],\n",
       "       [5.7, 2.5],\n",
       "       [4.8, 1.8],\n",
       "       [1.5, 0.4],\n",
       "       [4.9, 1.8],\n",
       "       [6.6, 2.1],\n",
       "       [6.7, 2. ],\n",
       "       [4.2, 1.2],\n",
       "       [1.4, 0.3],\n",
       "       [1.5, 0.4],\n",
       "       [1.3, 0.4],\n",
       "       [4.9, 1.5],\n",
       "       [4. , 1.3],\n",
       "       [1.5, 0.4],\n",
       "       [1.4, 0.3],\n",
       "       [4.1, 1. ],\n",
       "       [3.6, 1.3],\n",
       "       [1.4, 0.1],\n",
       "       [1.4, 0.3],\n",
       "       [4.4, 1.4],\n",
       "       [5. , 1.9],\n",
       "       [6.4, 2. ],\n",
       "       [1.4, 0.2],\n",
       "       [5.6, 2.1],\n",
       "       [1.4, 0.2],\n",
       "       [5. , 1.5],\n",
       "       [1.3, 0.2],\n",
       "       [6. , 2.5],\n",
       "       [4. , 1. ],\n",
       "       [1.9, 0.2],\n",
       "       [6.1, 2.3],\n",
       "       [4. , 1.3],\n",
       "       [5. , 2. ],\n",
       "       [3.9, 1.2],\n",
       "       [1.3, 0.3],\n",
       "       [3.7, 1. ],\n",
       "       [5.5, 1.8],\n",
       "       [4.6, 1.4],\n",
       "       [5.6, 1.8],\n",
       "       [1.5, 0.2],\n",
       "       [4.2, 1.3],\n",
       "       [1.4, 0.2],\n",
       "       [4.7, 1.5],\n",
       "       [4.8, 1.4],\n",
       "       [3.9, 1.4],\n",
       "       [6.1, 2.5],\n",
       "       [5.1, 1.6],\n",
       "       [4.3, 1.3],\n",
       "       [5.6, 2.4],\n",
       "       [4.9, 2. ],\n",
       "       [1.5, 0.2],\n",
       "       [5.7, 2.3],\n",
       "       [4.6, 1.5],\n",
       "       [4.1, 1.3],\n",
       "       [6.9, 2.3],\n",
       "       [1.5, 0.1],\n",
       "       [5.3, 2.3],\n",
       "       [5.1, 1.8],\n",
       "       [4.4, 1.3],\n",
       "       [1.6, 0.2],\n",
       "       [6.7, 2.2],\n",
       "       [5.5, 2.1],\n",
       "       [1.9, 0.4],\n",
       "       [1.1, 0.1],\n",
       "       [4.8, 1.8],\n",
       "       [5.8, 1.6],\n",
       "       [5.1, 2.4],\n",
       "       [1.7, 0.4],\n",
       "       [5.1, 1.9],\n",
       "       [3.5, 1. ],\n",
       "       [5.7, 2.1],\n",
       "       [6.1, 1.9],\n",
       "       [1.5, 0.2],\n",
       "       [4.7, 1.2],\n",
       "       [4.4, 1.2],\n",
       "       [4.7, 1.4],\n",
       "       [4.9, 1.5],\n",
       "       [4.2, 1.5],\n",
       "       [1.5, 0.2],\n",
       "       [5.4, 2.1],\n",
       "       [4. , 1.2],\n",
       "       [5.1, 1.9],\n",
       "       [1.6, 0.2],\n",
       "       [1.4, 0.1],\n",
       "       [3.5, 1. ],\n",
       "       [1.4, 0.2],\n",
       "       [4.2, 1.3],\n",
       "       [1.5, 0.2]])"
      ]
     },
     "execution_count": 20,
     "metadata": {},
     "output_type": "execute_result"
    }
   ],
   "source": [
    "xtrain"
   ]
  },
  {
   "cell_type": "code",
   "execution_count": 21,
   "id": "8e8b951f",
   "metadata": {},
   "outputs": [
    {
     "data": {
      "text/plain": [
       "array([1, 1, 0, 2, 1, 2, 0, 0, 0, 2, 2, 0, 0, 1, 1, 2, 0, 0, 2, 1, 0, 2,\n",
       "       2, 2, 1, 0, 0, 0, 1, 1, 0, 0, 1, 1, 0, 0, 1, 2, 2, 0, 2, 0, 2, 0,\n",
       "       2, 1, 0, 2, 1, 2, 1, 0, 1, 2, 1, 2, 0, 1, 0, 1, 1, 1, 2, 1, 1, 2,\n",
       "       2, 0, 2, 1, 1, 2, 0, 2, 2, 1, 0, 2, 2, 0, 0, 2, 2, 2, 0, 2, 1, 2,\n",
       "       2, 0, 1, 1, 1, 1, 1, 0, 2, 1, 2, 0, 0, 1, 0, 1, 0])"
      ]
     },
     "execution_count": 21,
     "metadata": {},
     "output_type": "execute_result"
    }
   ],
   "source": [
    "ytrain"
   ]
  },
  {
   "cell_type": "code",
   "execution_count": 22,
   "id": "d529c0ae",
   "metadata": {},
   "outputs": [],
   "source": [
    "from sklearn.linear_model import LogisticRegression\n",
    "from sklearn.metrics import accuracy_score\n",
    "from matplotlib.pyplot import colormaps\n",
    "import matplotlib.colors"
   ]
  },
  {
   "cell_type": "code",
   "execution_count": 23,
   "id": "fd930666",
   "metadata": {},
   "outputs": [
    {
     "data": {
      "text/html": [
       "<style>#sk-container-id-1 {color: black;background-color: white;}#sk-container-id-1 pre{padding: 0;}#sk-container-id-1 div.sk-toggleable {background-color: white;}#sk-container-id-1 label.sk-toggleable__label {cursor: pointer;display: block;width: 100%;margin-bottom: 0;padding: 0.3em;box-sizing: border-box;text-align: center;}#sk-container-id-1 label.sk-toggleable__label-arrow:before {content: \"▸\";float: left;margin-right: 0.25em;color: #696969;}#sk-container-id-1 label.sk-toggleable__label-arrow:hover:before {color: black;}#sk-container-id-1 div.sk-estimator:hover label.sk-toggleable__label-arrow:before {color: black;}#sk-container-id-1 div.sk-toggleable__content {max-height: 0;max-width: 0;overflow: hidden;text-align: left;background-color: #f0f8ff;}#sk-container-id-1 div.sk-toggleable__content pre {margin: 0.2em;color: black;border-radius: 0.25em;background-color: #f0f8ff;}#sk-container-id-1 input.sk-toggleable__control:checked~div.sk-toggleable__content {max-height: 200px;max-width: 100%;overflow: auto;}#sk-container-id-1 input.sk-toggleable__control:checked~label.sk-toggleable__label-arrow:before {content: \"▾\";}#sk-container-id-1 div.sk-estimator input.sk-toggleable__control:checked~label.sk-toggleable__label {background-color: #d4ebff;}#sk-container-id-1 div.sk-label input.sk-toggleable__control:checked~label.sk-toggleable__label {background-color: #d4ebff;}#sk-container-id-1 input.sk-hidden--visually {border: 0;clip: rect(1px 1px 1px 1px);clip: rect(1px, 1px, 1px, 1px);height: 1px;margin: -1px;overflow: hidden;padding: 0;position: absolute;width: 1px;}#sk-container-id-1 div.sk-estimator {font-family: monospace;background-color: #f0f8ff;border: 1px dotted black;border-radius: 0.25em;box-sizing: border-box;margin-bottom: 0.5em;}#sk-container-id-1 div.sk-estimator:hover {background-color: #d4ebff;}#sk-container-id-1 div.sk-parallel-item::after {content: \"\";width: 100%;border-bottom: 1px solid gray;flex-grow: 1;}#sk-container-id-1 div.sk-label:hover label.sk-toggleable__label {background-color: #d4ebff;}#sk-container-id-1 div.sk-serial::before {content: \"\";position: absolute;border-left: 1px solid gray;box-sizing: border-box;top: 0;bottom: 0;left: 50%;z-index: 0;}#sk-container-id-1 div.sk-serial {display: flex;flex-direction: column;align-items: center;background-color: white;padding-right: 0.2em;padding-left: 0.2em;position: relative;}#sk-container-id-1 div.sk-item {position: relative;z-index: 1;}#sk-container-id-1 div.sk-parallel {display: flex;align-items: stretch;justify-content: center;background-color: white;position: relative;}#sk-container-id-1 div.sk-item::before, #sk-container-id-1 div.sk-parallel-item::before {content: \"\";position: absolute;border-left: 1px solid gray;box-sizing: border-box;top: 0;bottom: 0;left: 50%;z-index: -1;}#sk-container-id-1 div.sk-parallel-item {display: flex;flex-direction: column;z-index: 1;position: relative;background-color: white;}#sk-container-id-1 div.sk-parallel-item:first-child::after {align-self: flex-end;width: 50%;}#sk-container-id-1 div.sk-parallel-item:last-child::after {align-self: flex-start;width: 50%;}#sk-container-id-1 div.sk-parallel-item:only-child::after {width: 0;}#sk-container-id-1 div.sk-dashed-wrapped {border: 1px dashed gray;margin: 0 0.4em 0.5em 0.4em;box-sizing: border-box;padding-bottom: 0.4em;background-color: white;}#sk-container-id-1 div.sk-label label {font-family: monospace;font-weight: bold;display: inline-block;line-height: 1.2em;}#sk-container-id-1 div.sk-label-container {text-align: center;}#sk-container-id-1 div.sk-container {/* jupyter's `normalize.less` sets `[hidden] { display: none; }` but bootstrap.min.css set `[hidden] { display: none !important; }` so we also need the `!important` here to be able to override the default hidden behavior on the sphinx rendered scikit-learn.org. See: https://github.com/scikit-learn/scikit-learn/issues/21755 */display: inline-block !important;position: relative;}#sk-container-id-1 div.sk-text-repr-fallback {display: none;}</style><div id=\"sk-container-id-1\" class=\"sk-top-container\"><div class=\"sk-text-repr-fallback\"><pre>LogisticRegression(C=100.0, n_jobs=-1)</pre><b>In a Jupyter environment, please rerun this cell to show the HTML representation or trust the notebook. <br />On GitHub, the HTML representation is unable to render, please try loading this page with nbviewer.org.</b></div><div class=\"sk-container\" hidden><div class=\"sk-item\"><div class=\"sk-estimator sk-toggleable\"><input class=\"sk-toggleable__control sk-hidden--visually\" id=\"sk-estimator-id-1\" type=\"checkbox\" checked><label for=\"sk-estimator-id-1\" class=\"sk-toggleable__label sk-toggleable__label-arrow\">LogisticRegression</label><div class=\"sk-toggleable__content\"><pre>LogisticRegression(C=100.0, n_jobs=-1)</pre></div></div></div></div></div>"
      ],
      "text/plain": [
       "LogisticRegression(C=100.0, n_jobs=-1)"
      ]
     },
     "execution_count": 23,
     "metadata": {},
     "output_type": "execute_result"
    }
   ],
   "source": [
    "model = LogisticRegression(C=100.0,n_jobs=-1)\n",
    "\n",
    "model.fit(xtrain_std, ytrain)"
   ]
  },
  {
   "cell_type": "code",
   "execution_count": 24,
   "id": "2a1e1c39",
   "metadata": {},
   "outputs": [],
   "source": [
    "# visualizing decision region/surfaces\n",
    "def plot_decision_surface(X, y, classifier, test_idx=None, resolution=0.02):\n",
    "#     setting marker generation\n",
    "    markers = ['s','x','o','v','^']\n",
    "    colors = ['red','blue','lightgreen','cyan','grey']\n",
    "#     unique_classes = len(np.unique(y))\n",
    "    cmap = matplotlib.colors.ListedColormap(colors[:len(np.unique(y))])\n",
    "    \n",
    "# colors = colors[:unique_classes]  # Truncate colors list to match unique class count\n",
    "# cmap = matplotlib.colors.ListedColormap(colors)\n",
    "    \n",
    "#     plotting decision surface\n",
    "    x1_min, x1_max = X[:, 0].min()-1, X[:, 0].max()+1\n",
    "    x2_min, x2_max = X[:, 1].min()-1, X[:, 1].max()+1\n",
    "    \n",
    "    xx1, xx2 = np.meshgrid(np.arange(x1_min, x1_max, resolution),np.arange(x2_min, x2_max, resolution))\n",
    "    z= classifier.predict(np.array([xx1.ravel(), xx2.ravel()]).T)\n",
    "    z= z.reshape(xx1.shape)\n",
    "    plt.contour(xx1, xx2, z, alpha= 0.3, cmap=cmap)\n",
    "    plt.xlim(xx1.min(), xx1.max())\n",
    "    plt.ylim(xx2.min(), xx2.max())\n",
    "    \n",
    "    for idx, cl in enumerate(np.unique(y)):\n",
    "        plt.scatter(x=X[y == cl, 0], y=X[y == cl, 1],alpha=0.8, c=colors[idx],marker=markers[idx], label=cl, edgecolor='black')\n",
    "    if test_idx:\n",
    "        xtest, ytest = X[test_idx, :], y[test_idx]\n",
    "        plt.scatter(xtest[:, 0], xtest[:, 1],c='black',edgecolor='black',alpha=1.0,linewidth=1,marker='o',s=100, label='test set')\n",
    "        \n",
    "X_combined_std = np.vstack((xtrain_std, xtest_std))\n",
    "y_combined = np.hstack((ytrain, ytest))"
   ]
  },
  {
   "cell_type": "code",
   "execution_count": 25,
   "id": "66fedd2a",
   "metadata": {
    "scrolled": false
   },
   "outputs": [
    {
     "name": "stderr",
     "output_type": "stream",
     "text": [
      "C:\\Users\\Phavour\\AppData\\Local\\Temp\\ipykernel_2656\\1422005778.py:24: UserWarning: You passed a edgecolor/edgecolors ('black') for an unfilled marker ('x').  Matplotlib is ignoring the edgecolor in favor of the facecolor.  This behavior may change in the future.\n",
      "  plt.scatter(x=X[y == cl, 0], y=X[y == cl, 1],alpha=0.8, c=colors[idx],marker=markers[idx], label=cl, edgecolor='black')\n"
     ]
    },
    {
     "data": {
      "image/png": "[encoded data removed]",
      "text/plain": [
       "<Figure size 640x480 with 1 Axes>"
      ]
     },
     "metadata": {},
     "output_type": "display_data"
    }
   ],
   "source": [
    "# plot_decision_surface(X,y,model, test_idx=None, resolution=0.02)\n",
    "plot_decision_surface(X_combined_std, y_combined, classifier=model, test_idx=range(len(ytrain), len(ytrain) + len(ytest)))\n",
    "plt.xlabel('Feature 1')\n",
    "plt.ylabel('Feature 2')\n",
    "plt.legend(loc='upper left')\n",
    "plt.show()\n"
   ]
  },
  {
   "cell_type": "code",
   "execution_count": 26,
   "id": "2bb599c2",
   "metadata": {},
   "outputs": [
    {
     "name": "stderr",
     "output_type": "stream",
     "text": [
      "C:\\Users\\Phavour\\AppData\\Local\\Temp\\ipykernel_2656\\1422005778.py:24: UserWarning: You passed a edgecolor/edgecolors ('black') for an unfilled marker ('x').  Matplotlib is ignoring the edgecolor in favor of the facecolor.  This behavior may change in the future.\n",
      "  plt.scatter(x=X[y == cl, 0], y=X[y == cl, 1],alpha=0.8, c=colors[idx],marker=markers[idx], label=cl, edgecolor='black')\n"
     ]
    },
    {
     "data": {
      "image/png": "[encoded data removed]",
      "text/plain": [
       "<Figure size 640x480 with 1 Axes>"
      ]
     },
     "metadata": {},
     "output_type": "display_data"
    }
   ],
   "source": [
    "plot_decision_surface(X_combined_std, y_combined,classifier=model,test_idx=range(105,150))\n",
    "plt.xlabel('petal lenth [standardised]')\n",
    "plt.ylabel('petal width [standardised]')\n",
    "plt.legend(loc='upper left')\n",
    "plt.tight_layout()\n",
    "#plt.savefig('images/03_06.png', dpi=300)\n",
    "plt.show()"
   ]
  },
  {
   "cell_type": "code",
   "execution_count": 27,
   "id": "c0175b13",
   "metadata": {},
   "outputs": [
    {
     "name": "stdout",
     "output_type": "stream",
     "text": [
      "[[2.33334134e-12 2.15946157e-04 9.99784054e-01]\n",
      " [1.95270355e-05 9.79747449e-01 2.02330237e-02]\n",
      " [2.09831585e-06 6.89955423e-01 3.10042479e-01]]\n",
      "[1. 1. 1.]\n",
      "[2 1 1]\n",
      "[2 1 1]\n",
      "[2]\n"
     ]
    }
   ],
   "source": [
    "# preedicting model\n",
    "print(model.predict_proba(xtest_std[:3, :]))\n",
    "print(model.predict_proba(xtest_std[:3, :]).sum(axis=1))\n",
    "print(model.predict_proba(xtest_std[:3, :]).argmax(axis=1))\n",
    "\n",
    "print(model.predict(xtest_std[:3, :]))\n",
    "print(model.predict(xtest_std[0, :].reshape(1, -1)))"
   ]
  },
  {
   "cell_type": "code",
   "execution_count": 28,
   "id": "d4d3a596",
   "metadata": {},
   "outputs": [
    {
     "data": {
      "text/plain": [
       "0.9714285714285714"
      ]
     },
     "execution_count": 28,
     "metadata": {},
     "output_type": "execute_result"
    }
   ],
   "source": [
    "model.score(xtrain_std,ytrain)"
   ]
  },
  {
   "cell_type": "code",
   "execution_count": 29,
   "id": "826d8fb3",
   "metadata": {},
   "outputs": [
    {
     "data": {
      "text/plain": [
       "0.9333333333333333"
      ]
     },
     "execution_count": 29,
     "metadata": {},
     "output_type": "execute_result"
    }
   ],
   "source": [
    "accuracy_score(ytest,model.predict(xtest_std))"
   ]
  },
  {
   "cell_type": "code",
   "execution_count": 37,
   "id": "1398347a",
   "metadata": {},
   "outputs": [],
   "source": [
    "df = pd.DataFrame({'petal length (cm)': xtest_std[:, 0],  # Assuming petal length is the first feature\n",
    "                   'petal width (cm)': xtest_std[:, 1],   # Assuming petal width is the second feature\n",
    "                   'Species': model.predict(xtest_std)})"
   ]
  },
  {
   "cell_type": "code",
   "execution_count": 38,
   "id": "0c25e748",
   "metadata": {},
   "outputs": [
    {
     "data": {
      "text/plain": [
       "Index(['sepal length (cm)', 'sepal width (cm)', 'petal length (cm)',\n",
       "       'petal width (cm)'],\n",
       "      dtype='object')"
      ]
     },
     "execution_count": 38,
     "metadata": {},
     "output_type": "execute_result"
    }
   ],
   "source": [
    "iris_df.columns"
   ]
  },
  {
   "cell_type": "code",
   "execution_count": 40,
   "id": "79fb7eea",
   "metadata": {},
   "outputs": [
    {
     "data": {
      "text/plain": [
       "array(['setosa', 'versicolor', 'virginica'], dtype='<U10')"
      ]
     },
     "execution_count": 40,
     "metadata": {},
     "output_type": "execute_result"
    }
   ],
   "source": [
    "iris.target_names"
   ]
  },
  {
   "cell_type": "code",
   "execution_count": 39,
   "id": "69f3134b",
   "metadata": {},
   "outputs": [
    {
     "data": {
      "text/html": [
       "<div>\n",
       "<style scoped>\n",
       "    .dataframe tbody tr th:only-of-type {\n",
       "        vertical-align: middle;\n",
       "    }\n",
       "\n",
       "    .dataframe tbody tr th {\n",
       "        vertical-align: top;\n",
       "    }\n",
       "\n",
       "    .dataframe thead th {\n",
       "        text-align: right;\n",
       "    }\n",
       "</style>\n",
       "<table border=\"1\" class=\"dataframe\">\n",
       "  <thead>\n",
       "    <tr style=\"text-align: right;\">\n",
       "      <th></th>\n",
       "      <th>petal length (cm)</th>\n",
       "      <th>petal width (cm)</th>\n",
       "      <th>Species</th>\n",
       "    </tr>\n",
       "  </thead>\n",
       "  <tbody>\n",
       "    <tr>\n",
       "      <th>0</th>\n",
       "      <td>1.416607</td>\n",
       "      <td>0.767972</td>\n",
       "      <td>2</td>\n",
       "    </tr>\n",
       "    <tr>\n",
       "      <th>1</th>\n",
       "      <td>0.515471</td>\n",
       "      <td>0.251068</td>\n",
       "      <td>1</td>\n",
       "    </tr>\n",
       "    <tr>\n",
       "      <th>2</th>\n",
       "      <td>0.740755</td>\n",
       "      <td>0.380294</td>\n",
       "      <td>1</td>\n",
       "    </tr>\n",
       "    <tr>\n",
       "      <th>3</th>\n",
       "      <td>0.515471</td>\n",
       "      <td>0.509520</td>\n",
       "      <td>1</td>\n",
       "    </tr>\n",
       "    <tr>\n",
       "      <th>4</th>\n",
       "      <td>0.628113</td>\n",
       "      <td>0.767972</td>\n",
       "      <td>2</td>\n",
       "    </tr>\n",
       "    <tr>\n",
       "      <th>5</th>\n",
       "      <td>1.022360</td>\n",
       "      <td>1.543329</td>\n",
       "      <td>2</td>\n",
       "    </tr>\n",
       "    <tr>\n",
       "      <th>6</th>\n",
       "      <td>0.121224</td>\n",
       "      <td>0.121842</td>\n",
       "      <td>1</td>\n",
       "    </tr>\n",
       "    <tr>\n",
       "      <th>7</th>\n",
       "      <td>0.064903</td>\n",
       "      <td>-0.136610</td>\n",
       "      <td>1</td>\n",
       "    </tr>\n",
       "    <tr>\n",
       "      <th>8</th>\n",
       "      <td>-1.174159</td>\n",
       "      <td>-1.299645</td>\n",
       "      <td>0</td>\n",
       "    </tr>\n",
       "    <tr>\n",
       "      <th>9</th>\n",
       "      <td>0.740755</td>\n",
       "      <td>1.414103</td>\n",
       "      <td>2</td>\n",
       "    </tr>\n",
       "    <tr>\n",
       "      <th>10</th>\n",
       "      <td>-1.455764</td>\n",
       "      <td>-1.299645</td>\n",
       "      <td>0</td>\n",
       "    </tr>\n",
       "    <tr>\n",
       "      <th>11</th>\n",
       "      <td>-1.399443</td>\n",
       "      <td>-1.299645</td>\n",
       "      <td>0</td>\n",
       "    </tr>\n",
       "    <tr>\n",
       "      <th>12</th>\n",
       "      <td>1.135002</td>\n",
       "      <td>0.767972</td>\n",
       "      <td>2</td>\n",
       "    </tr>\n",
       "    <tr>\n",
       "      <th>13</th>\n",
       "      <td>0.966039</td>\n",
       "      <td>0.767972</td>\n",
       "      <td>2</td>\n",
       "    </tr>\n",
       "    <tr>\n",
       "      <th>14</th>\n",
       "      <td>-1.343122</td>\n",
       "      <td>-1.299645</td>\n",
       "      <td>0</td>\n",
       "    </tr>\n",
       "    <tr>\n",
       "      <th>15</th>\n",
       "      <td>0.909718</td>\n",
       "      <td>1.414103</td>\n",
       "      <td>2</td>\n",
       "    </tr>\n",
       "    <tr>\n",
       "      <th>16</th>\n",
       "      <td>-0.273023</td>\n",
       "      <td>-0.265837</td>\n",
       "      <td>1</td>\n",
       "    </tr>\n",
       "    <tr>\n",
       "      <th>17</th>\n",
       "      <td>-1.286801</td>\n",
       "      <td>-1.299645</td>\n",
       "      <td>0</td>\n",
       "    </tr>\n",
       "    <tr>\n",
       "      <th>18</th>\n",
       "      <td>-1.174159</td>\n",
       "      <td>-0.911967</td>\n",
       "      <td>0</td>\n",
       "    </tr>\n",
       "    <tr>\n",
       "      <th>19</th>\n",
       "      <td>-1.174159</td>\n",
       "      <td>-1.170419</td>\n",
       "      <td>0</td>\n",
       "    </tr>\n",
       "    <tr>\n",
       "      <th>20</th>\n",
       "      <td>0.290187</td>\n",
       "      <td>0.121842</td>\n",
       "      <td>1</td>\n",
       "    </tr>\n",
       "    <tr>\n",
       "      <th>21</th>\n",
       "      <td>-1.286801</td>\n",
       "      <td>-1.299645</td>\n",
       "      <td>0</td>\n",
       "    </tr>\n",
       "    <tr>\n",
       "      <th>22</th>\n",
       "      <td>0.346508</td>\n",
       "      <td>0.251068</td>\n",
       "      <td>1</td>\n",
       "    </tr>\n",
       "    <tr>\n",
       "      <th>23</th>\n",
       "      <td>1.135002</td>\n",
       "      <td>1.284877</td>\n",
       "      <td>2</td>\n",
       "    </tr>\n",
       "    <tr>\n",
       "      <th>24</th>\n",
       "      <td>0.571792</td>\n",
       "      <td>0.767972</td>\n",
       "      <td>2</td>\n",
       "    </tr>\n",
       "    <tr>\n",
       "      <th>25</th>\n",
       "      <td>0.402829</td>\n",
       "      <td>0.380294</td>\n",
       "      <td>1</td>\n",
       "    </tr>\n",
       "    <tr>\n",
       "      <th>26</th>\n",
       "      <td>0.402829</td>\n",
       "      <td>0.380294</td>\n",
       "      <td>1</td>\n",
       "    </tr>\n",
       "    <tr>\n",
       "      <th>27</th>\n",
       "      <td>-0.273023</td>\n",
       "      <td>-0.265837</td>\n",
       "      <td>1</td>\n",
       "    </tr>\n",
       "    <tr>\n",
       "      <th>28</th>\n",
       "      <td>0.402829</td>\n",
       "      <td>0.380294</td>\n",
       "      <td>1</td>\n",
       "    </tr>\n",
       "    <tr>\n",
       "      <th>29</th>\n",
       "      <td>-1.455764</td>\n",
       "      <td>-1.299645</td>\n",
       "      <td>0</td>\n",
       "    </tr>\n",
       "    <tr>\n",
       "      <th>30</th>\n",
       "      <td>1.022360</td>\n",
       "      <td>0.251068</td>\n",
       "      <td>2</td>\n",
       "    </tr>\n",
       "    <tr>\n",
       "      <th>31</th>\n",
       "      <td>1.022360</td>\n",
       "      <td>1.284877</td>\n",
       "      <td>2</td>\n",
       "    </tr>\n",
       "    <tr>\n",
       "      <th>32</th>\n",
       "      <td>0.402829</td>\n",
       "      <td>0.509520</td>\n",
       "      <td>1</td>\n",
       "    </tr>\n",
       "    <tr>\n",
       "      <th>33</th>\n",
       "      <td>-1.343122</td>\n",
       "      <td>-1.299645</td>\n",
       "      <td>0</td>\n",
       "    </tr>\n",
       "    <tr>\n",
       "      <th>34</th>\n",
       "      <td>0.853397</td>\n",
       "      <td>0.897198</td>\n",
       "      <td>2</td>\n",
       "    </tr>\n",
       "    <tr>\n",
       "      <th>35</th>\n",
       "      <td>-1.399443</td>\n",
       "      <td>-1.170419</td>\n",
       "      <td>0</td>\n",
       "    </tr>\n",
       "    <tr>\n",
       "      <th>36</th>\n",
       "      <td>-1.399443</td>\n",
       "      <td>-1.299645</td>\n",
       "      <td>0</td>\n",
       "    </tr>\n",
       "    <tr>\n",
       "      <th>37</th>\n",
       "      <td>-1.399443</td>\n",
       "      <td>-1.299645</td>\n",
       "      <td>0</td>\n",
       "    </tr>\n",
       "    <tr>\n",
       "      <th>38</th>\n",
       "      <td>-1.230480</td>\n",
       "      <td>-0.782741</td>\n",
       "      <td>0</td>\n",
       "    </tr>\n",
       "    <tr>\n",
       "      <th>39</th>\n",
       "      <td>0.684434</td>\n",
       "      <td>0.638746</td>\n",
       "      <td>2</td>\n",
       "    </tr>\n",
       "    <tr>\n",
       "      <th>40</th>\n",
       "      <td>0.402829</td>\n",
       "      <td>0.121842</td>\n",
       "      <td>1</td>\n",
       "    </tr>\n",
       "    <tr>\n",
       "      <th>41</th>\n",
       "      <td>-1.568406</td>\n",
       "      <td>-1.299645</td>\n",
       "      <td>0</td>\n",
       "    </tr>\n",
       "    <tr>\n",
       "      <th>42</th>\n",
       "      <td>0.402829</td>\n",
       "      <td>0.638746</td>\n",
       "      <td>1</td>\n",
       "    </tr>\n",
       "    <tr>\n",
       "      <th>43</th>\n",
       "      <td>0.797076</td>\n",
       "      <td>1.026424</td>\n",
       "      <td>2</td>\n",
       "    </tr>\n",
       "    <tr>\n",
       "      <th>44</th>\n",
       "      <td>0.459150</td>\n",
       "      <td>0.121842</td>\n",
       "      <td>1</td>\n",
       "    </tr>\n",
       "  </tbody>\n",
       "</table>\n",
       "</div>"
      ],
      "text/plain": [
       "    petal length (cm)  petal width (cm)  Species\n",
       "0            1.416607          0.767972        2\n",
       "1            0.515471          0.251068        1\n",
       "2            0.740755          0.380294        1\n",
       "3            0.515471          0.509520        1\n",
       "4            0.628113          0.767972        2\n",
       "5            1.022360          1.543329        2\n",
       "6            0.121224          0.121842        1\n",
       "7            0.064903         -0.136610        1\n",
       "8           -1.174159         -1.299645        0\n",
       "9            0.740755          1.414103        2\n",
       "10          -1.455764         -1.299645        0\n",
       "11          -1.399443         -1.299645        0\n",
       "12           1.135002          0.767972        2\n",
       "13           0.966039          0.767972        2\n",
       "14          -1.343122         -1.299645        0\n",
       "15           0.909718          1.414103        2\n",
       "16          -0.273023         -0.265837        1\n",
       "17          -1.286801         -1.299645        0\n",
       "18          -1.174159         -0.911967        0\n",
       "19          -1.174159         -1.170419        0\n",
       "20           0.290187          0.121842        1\n",
       "21          -1.286801         -1.299645        0\n",
       "22           0.346508          0.251068        1\n",
       "23           1.135002          1.284877        2\n",
       "24           0.571792          0.767972        2\n",
       "25           0.402829          0.380294        1\n",
       "26           0.402829          0.380294        1\n",
       "27          -0.273023         -0.265837        1\n",
       "28           0.402829          0.380294        1\n",
       "29          -1.455764         -1.299645        0\n",
       "30           1.022360          0.251068        2\n",
       "31           1.022360          1.284877        2\n",
       "32           0.402829          0.509520        1\n",
       "33          -1.343122         -1.299645        0\n",
       "34           0.853397          0.897198        2\n",
       "35          -1.399443         -1.170419        0\n",
       "36          -1.399443         -1.299645        0\n",
       "37          -1.399443         -1.299645        0\n",
       "38          -1.230480         -0.782741        0\n",
       "39           0.684434          0.638746        2\n",
       "40           0.402829          0.121842        1\n",
       "41          -1.568406         -1.299645        0\n",
       "42           0.402829          0.638746        1\n",
       "43           0.797076          1.026424        2\n",
       "44           0.459150          0.121842        1"
      ]
     },
     "execution_count": 39,
     "metadata": {},
     "output_type": "execute_result"
    }
   ],
   "source": [
    "# pd.DataFrame(xtest_std)\n",
    "df"
   ]
  },
  {
   "cell_type": "code",
   "execution_count": null,
   "id": "045b464f",
   "metadata": {},
   "outputs": [],
   "source": []
  },
  {
   "cell_type": "code",
   "execution_count": null,
   "id": "5cc051ae",
   "metadata": {},
   "outputs": [],
   "source": []
  },
  {
   "cell_type": "code",
   "execution_count": null,
   "id": "78feb69c",
   "metadata": {},
   "outputs": [],
   "source": []
  }
 ],
 "metadata": {
  "kernelspec": {
   "display_name": "Python 3 (ipykernel)",
   "language": "python",
   "name": "python3"
  },
  "language_info": {
   "codemirror_mode": {
    "name": "ipython",
    "version": 3
   },
   "file_extension": ".py",
   "mimetype": "text/x-python",
   "name": "python",
   "nbconvert_exporter": "python",
   "pygments_lexer": "ipython3",
   "version": "3.11.7"
  }
 },
 "nbformat": 4,
 "nbformat_minor": 5
}
