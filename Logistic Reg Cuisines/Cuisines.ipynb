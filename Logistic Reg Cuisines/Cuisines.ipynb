{
 "cells": [
  {
   "cell_type": "code",
   "execution_count": 1,
   "id": "62d1d9fa",
   "metadata": {},
   "outputs": [],
   "source": [
    "import pandas as pd\n",
    "import numpy as np\n",
    "import seaborn as sns\n",
    "import matplotlib.pyplot as plt"
   ]
  },
  {
   "cell_type": "code",
   "execution_count": 2,
   "id": "9c81eb84",
   "metadata": {},
   "outputs": [
    {
     "data": {
      "text/html": [
       "<div>\n",
       "<style scoped>\n",
       "    .dataframe tbody tr th:only-of-type {\n",
       "        vertical-align: middle;\n",
       "    }\n",
       "\n",
       "    .dataframe tbody tr th {\n",
       "        vertical-align: top;\n",
       "    }\n",
       "\n",
       "    .dataframe thead th {\n",
       "        text-align: right;\n",
       "    }\n",
       "</style>\n",
       "<table border=\"1\" class=\"dataframe\">\n",
       "  <thead>\n",
       "    <tr style=\"text-align: right;\">\n",
       "      <th></th>\n",
       "      <th>Unnamed: 0</th>\n",
       "      <th>cuisine</th>\n",
       "      <th>almond</th>\n",
       "      <th>angelica</th>\n",
       "      <th>anise</th>\n",
       "      <th>anise_seed</th>\n",
       "      <th>apple</th>\n",
       "      <th>apple_brandy</th>\n",
       "      <th>apricot</th>\n",
       "      <th>armagnac</th>\n",
       "      <th>...</th>\n",
       "      <th>whiskey</th>\n",
       "      <th>white_bread</th>\n",
       "      <th>white_wine</th>\n",
       "      <th>whole_grain_wheat_flour</th>\n",
       "      <th>wine</th>\n",
       "      <th>wood</th>\n",
       "      <th>yam</th>\n",
       "      <th>yeast</th>\n",
       "      <th>yogurt</th>\n",
       "      <th>zucchini</th>\n",
       "    </tr>\n",
       "  </thead>\n",
       "  <tbody>\n",
       "    <tr>\n",
       "      <th>0</th>\n",
       "      <td>65</td>\n",
       "      <td>indian</td>\n",
       "      <td>0</td>\n",
       "      <td>0</td>\n",
       "      <td>0</td>\n",
       "      <td>0</td>\n",
       "      <td>0</td>\n",
       "      <td>0</td>\n",
       "      <td>0</td>\n",
       "      <td>0</td>\n",
       "      <td>...</td>\n",
       "      <td>0</td>\n",
       "      <td>0</td>\n",
       "      <td>0</td>\n",
       "      <td>0</td>\n",
       "      <td>0</td>\n",
       "      <td>0</td>\n",
       "      <td>0</td>\n",
       "      <td>0</td>\n",
       "      <td>0</td>\n",
       "      <td>0</td>\n",
       "    </tr>\n",
       "    <tr>\n",
       "      <th>1</th>\n",
       "      <td>66</td>\n",
       "      <td>indian</td>\n",
       "      <td>1</td>\n",
       "      <td>0</td>\n",
       "      <td>0</td>\n",
       "      <td>0</td>\n",
       "      <td>0</td>\n",
       "      <td>0</td>\n",
       "      <td>0</td>\n",
       "      <td>0</td>\n",
       "      <td>...</td>\n",
       "      <td>0</td>\n",
       "      <td>0</td>\n",
       "      <td>0</td>\n",
       "      <td>0</td>\n",
       "      <td>0</td>\n",
       "      <td>0</td>\n",
       "      <td>0</td>\n",
       "      <td>0</td>\n",
       "      <td>0</td>\n",
       "      <td>0</td>\n",
       "    </tr>\n",
       "    <tr>\n",
       "      <th>2</th>\n",
       "      <td>67</td>\n",
       "      <td>indian</td>\n",
       "      <td>0</td>\n",
       "      <td>0</td>\n",
       "      <td>0</td>\n",
       "      <td>0</td>\n",
       "      <td>0</td>\n",
       "      <td>0</td>\n",
       "      <td>0</td>\n",
       "      <td>0</td>\n",
       "      <td>...</td>\n",
       "      <td>0</td>\n",
       "      <td>0</td>\n",
       "      <td>0</td>\n",
       "      <td>0</td>\n",
       "      <td>0</td>\n",
       "      <td>0</td>\n",
       "      <td>0</td>\n",
       "      <td>0</td>\n",
       "      <td>0</td>\n",
       "      <td>0</td>\n",
       "    </tr>\n",
       "    <tr>\n",
       "      <th>3</th>\n",
       "      <td>68</td>\n",
       "      <td>indian</td>\n",
       "      <td>0</td>\n",
       "      <td>0</td>\n",
       "      <td>0</td>\n",
       "      <td>0</td>\n",
       "      <td>0</td>\n",
       "      <td>0</td>\n",
       "      <td>0</td>\n",
       "      <td>0</td>\n",
       "      <td>...</td>\n",
       "      <td>0</td>\n",
       "      <td>0</td>\n",
       "      <td>0</td>\n",
       "      <td>0</td>\n",
       "      <td>0</td>\n",
       "      <td>0</td>\n",
       "      <td>0</td>\n",
       "      <td>0</td>\n",
       "      <td>0</td>\n",
       "      <td>0</td>\n",
       "    </tr>\n",
       "    <tr>\n",
       "      <th>4</th>\n",
       "      <td>69</td>\n",
       "      <td>indian</td>\n",
       "      <td>0</td>\n",
       "      <td>0</td>\n",
       "      <td>0</td>\n",
       "      <td>0</td>\n",
       "      <td>0</td>\n",
       "      <td>0</td>\n",
       "      <td>0</td>\n",
       "      <td>0</td>\n",
       "      <td>...</td>\n",
       "      <td>0</td>\n",
       "      <td>0</td>\n",
       "      <td>0</td>\n",
       "      <td>0</td>\n",
       "      <td>0</td>\n",
       "      <td>0</td>\n",
       "      <td>0</td>\n",
       "      <td>0</td>\n",
       "      <td>1</td>\n",
       "      <td>0</td>\n",
       "    </tr>\n",
       "  </tbody>\n",
       "</table>\n",
       "<p>5 rows × 385 columns</p>\n",
       "</div>"
      ],
      "text/plain": [
       "   Unnamed: 0 cuisine  almond  angelica  anise  anise_seed  apple  \\\n",
       "0          65  indian       0         0      0           0      0   \n",
       "1          66  indian       1         0      0           0      0   \n",
       "2          67  indian       0         0      0           0      0   \n",
       "3          68  indian       0         0      0           0      0   \n",
       "4          69  indian       0         0      0           0      0   \n",
       "\n",
       "   apple_brandy  apricot  armagnac  ...  whiskey  white_bread  white_wine  \\\n",
       "0             0        0         0  ...        0            0           0   \n",
       "1             0        0         0  ...        0            0           0   \n",
       "2             0        0         0  ...        0            0           0   \n",
       "3             0        0         0  ...        0            0           0   \n",
       "4             0        0         0  ...        0            0           0   \n",
       "\n",
       "   whole_grain_wheat_flour  wine  wood  yam  yeast  yogurt  zucchini  \n",
       "0                        0     0     0    0      0       0         0  \n",
       "1                        0     0     0    0      0       0         0  \n",
       "2                        0     0     0    0      0       0         0  \n",
       "3                        0     0     0    0      0       0         0  \n",
       "4                        0     0     0    0      0       1         0  \n",
       "\n",
       "[5 rows x 385 columns]"
      ]
     },
     "execution_count": 2,
     "metadata": {},
     "output_type": "execute_result"
    }
   ],
   "source": [
    "cuisines = pd.read_csv(r\"C:\\Users\\Phavour\\Downloads\\Personal Python-ML project\\Simplilearn\\Workspace\\Untitled Folder 1\\cuisines.csv\")\n",
    "cuisines.head()"
   ]
  },
  {
   "cell_type": "code",
   "execution_count": 3,
   "id": "02fdea33",
   "metadata": {},
   "outputs": [
    {
     "name": "stdout",
     "output_type": "stream",
     "text": [
      "<class 'pandas.core.frame.DataFrame'>\n",
      "RangeIndex: 2448 entries, 0 to 2447\n",
      "Columns: 385 entries, Unnamed: 0 to zucchini\n",
      "dtypes: int64(384), object(1)\n",
      "memory usage: 7.2+ MB\n"
     ]
    }
   ],
   "source": [
    "cuisines.info()"
   ]
  },
  {
   "cell_type": "code",
   "execution_count": 4,
   "id": "0b11ae1d",
   "metadata": {},
   "outputs": [
    {
     "data": {
      "text/plain": [
       "<Axes: ylabel='cuisine'>"
      ]
     },
     "execution_count": 4,
     "metadata": {},
     "output_type": "execute_result"
    },
    {
     "data": {
      "image/png": "[encoded data removed]",
      "text/plain": [
       "<Figure size 640x480 with 1 Axes>"
      ]
     },
     "metadata": {},
     "output_type": "display_data"
    }
   ],
   "source": [
    "cuisines.cuisine.value_counts().plot.barh()"
   ]
  },
  {
   "cell_type": "code",
   "execution_count": 5,
   "id": "6974cf8b",
   "metadata": {},
   "outputs": [],
   "source": [
    "# creating a dataframe for each cuisine\n",
    "thai_df = cuisines[(cuisines.cuisine == 'thai')]\n",
    "japanese_df = cuisines[(cuisines.cuisine == 'japanese')]\n",
    "chinese_df = cuisines[(cuisines.cuisine == 'chinese')]\n",
    "indian_df = cuisines[(cuisines.cuisine == 'indian')]\n",
    "korean_df = cuisines[(cuisines.cuisine == 'korean')]\n"
   ]
  },
  {
   "cell_type": "code",
   "execution_count": 6,
   "id": "d95fb735",
   "metadata": {},
   "outputs": [
    {
     "name": "stdout",
     "output_type": "stream",
     "text": [
      "thai :(289, 385)\n",
      "japanese :(320, 385)\n",
      "chinese :(442, 385)\n",
      "indian :(598, 385)\n",
      "korean :(799, 385)\n"
     ]
    }
   ],
   "source": [
    "# getting the shape of each cuisine\n",
    "print(f\"thai :{thai_df.shape}\")\n",
    "print(f\"japanese :{japanese_df.shape}\")\n",
    "print(f\"chinese :{chinese_df.shape}\")\n",
    "print(f\"indian :{indian_df.shape}\")\n",
    "print(f\"korean :{korean_df.shape}\")"
   ]
  },
  {
   "cell_type": "code",
   "execution_count": 7,
   "id": "d2bcda67",
   "metadata": {},
   "outputs": [],
   "source": [
    "def create_ingredient(cuisines):\n",
    "    ingredient_df = cuisines.T.drop(['Unnamed: 0','cuisine']).sum(axis = 1).to_frame('value')\n",
    "    ingredient_df = ingredient_df[(ingredient_df.T !=0).any()]\n",
    "    ingredient_df = ingredient_df.sort_values(by='value',ascending=False,inplace = False)\n",
    "    return ingredient_df"
   ]
  },
  {
   "cell_type": "code",
   "execution_count": 8,
   "id": "9c862ca7",
   "metadata": {},
   "outputs": [
    {
     "data": {
      "text/plain": [
       "<Axes: >"
      ]
     },
     "execution_count": 8,
     "metadata": {},
     "output_type": "execute_result"
    },
    {
     "data": {
      "image/png": "[encoded data removed]",
      "text/plain": [
       "<Figure size 640x480 with 1 Axes>"
      ]
     },
     "metadata": {},
     "output_type": "display_data"
    }
   ],
   "source": [
    "thai_ingredient = create_ingredient(thai_df)\n",
    "thai_ingredient.head(10).plot.barh()"
   ]
  },
  {
   "cell_type": "code",
   "execution_count": 9,
   "id": "12f5b2e4",
   "metadata": {},
   "outputs": [
    {
     "data": {
      "text/plain": [
       "<Axes: >"
      ]
     },
     "execution_count": 9,
     "metadata": {},
     "output_type": "execute_result"
    },
    {
     "data": {
      "image/png": "[encoded data removed]",
      "text/plain": [
       "<Figure size 640x480 with 1 Axes>"
      ]
     },
     "metadata": {},
     "output_type": "display_data"
    }
   ],
   "source": [
    "japanese_ingredient = create_ingredient(japanese_df)\n",
    "japanese_ingredient.head(10).plot.barh()"
   ]
  },
  {
   "cell_type": "code",
   "execution_count": 10,
   "id": "2f3d8773",
   "metadata": {},
   "outputs": [
    {
     "data": {
      "text/plain": [
       "<Axes: >"
      ]
     },
     "execution_count": 10,
     "metadata": {},
     "output_type": "execute_result"
    },
    {
     "data": {
      "image/png": "[encoded data removed]",
      "text/plain": [
       "<Figure size 640x480 with 1 Axes>"
      ]
     },
     "metadata": {},
     "output_type": "display_data"
    }
   ],
   "source": [
    "chinese_ingredient = create_ingredient(chinese_df)\n",
    "chinese_ingredient.head(10).plot.barh()"
   ]
  },
  {
   "cell_type": "code",
   "execution_count": 11,
   "id": "7cc19170",
   "metadata": {},
   "outputs": [
    {
     "data": {
      "text/plain": [
       "<Axes: >"
      ]
     },
     "execution_count": 11,
     "metadata": {},
     "output_type": "execute_result"
    },
    {
     "data": {
      "image/png": "[encoded data removed]",
      "text/plain": [
       "<Figure size 640x480 with 1 Axes>"
      ]
     },
     "metadata": {},
     "output_type": "display_data"
    }
   ],
   "source": [
    "indian_ingredient = create_ingredient(indian_df)\n",
    "indian_ingredient.head(10).plot.barh()"
   ]
  },
  {
   "cell_type": "code",
   "execution_count": 12,
   "id": "3ce41643",
   "metadata": {},
   "outputs": [
    {
     "data": {
      "text/plain": [
       "<Axes: >"
      ]
     },
     "execution_count": 12,
     "metadata": {},
     "output_type": "execute_result"
    },
    {
     "data": {
      "image/png": "[encoded data removed]",
      "text/plain": [
       "<Figure size 640x480 with 1 Axes>"
      ]
     },
     "metadata": {},
     "output_type": "display_data"
    }
   ],
   "source": [
    "korean_ingredient = create_ingredient(korean_df)\n",
    "korean_ingredient.head(10).plot.barh()"
   ]
  },
  {
   "cell_type": "code",
   "execution_count": 13,
   "id": "eb9c70c9",
   "metadata": {},
   "outputs": [
    {
     "data": {
      "text/plain": [
       "0         indian\n",
       "1         indian\n",
       "2         indian\n",
       "3         indian\n",
       "4         indian\n",
       "          ...   \n",
       "2443    japanese\n",
       "2444    japanese\n",
       "2445    japanese\n",
       "2446    japanese\n",
       "2447    japanese\n",
       "Name: cuisine, Length: 2448, dtype: object"
      ]
     },
     "execution_count": 13,
     "metadata": {},
     "output_type": "execute_result"
    }
   ],
   "source": [
    "features_df = cuisines.drop(['Unnamed: 0','garlic','rice','cuisine'],axis=1)\n",
    "label_df = cuisines.cuisine\n",
    "label_df"
   ]
  },
  {
   "cell_type": "code",
   "execution_count": 14,
   "id": "f5716201",
   "metadata": {},
   "outputs": [],
   "source": [
    "from imblearn.over_sampling import SMOTE\n",
    "sampling = SMOTE()"
   ]
  },
  {
   "cell_type": "code",
   "execution_count": 15,
   "id": "45883369",
   "metadata": {},
   "outputs": [],
   "source": [
    "transformed_f, transformed_l = sampling.fit_resample(features_df,label_df)"
   ]
  },
  {
   "cell_type": "code",
   "execution_count": 16,
   "id": "282b62b8",
   "metadata": {},
   "outputs": [
    {
     "name": "stdout",
     "output_type": "stream",
     "text": [
      "Old Label count :\n",
      "cuisine\n",
      "korean      799\n",
      "indian      598\n",
      "chinese     442\n",
      "japanese    320\n",
      "thai        289\n",
      "Name: count, dtype: int64\n",
      "++++++++++++++++++++++++++++++\n",
      "New Label count :\n",
      "cuisine\n",
      "indian      799\n",
      "thai        799\n",
      "chinese     799\n",
      "japanese    799\n",
      "korean      799\n",
      "Name: count, dtype: int64\n"
     ]
    }
   ],
   "source": [
    "print(f\"Old Label count :\\n{label_df.value_counts()}\")\n",
    "print(\"+++\"*10)\n",
    "print(f\"New Label count :\\n{transformed_l.value_counts()}\")"
   ]
  },
  {
   "cell_type": "code",
   "execution_count": 17,
   "id": "8ffe215b",
   "metadata": {},
   "outputs": [],
   "source": [
    "# creating logistics model\n",
    "from sklearn.model_selection import train_test_split,cross_val_score\n",
    "from sklearn.linear_model import LogisticRegression\n",
    "from sklearn.metrics import accuracy_score,classification_report"
   ]
  },
  {
   "cell_type": "code",
   "execution_count": 18,
   "id": "ec31c411",
   "metadata": {},
   "outputs": [],
   "source": [
    "xtrain,xtest,ytrain,ytest = train_test_split(transformed_f,transformed_l,test_size=0.3)\n"
   ]
  },
  {
   "cell_type": "code",
   "execution_count": 19,
   "id": "6ef4d82b",
   "metadata": {},
   "outputs": [
    {
     "data": {
      "text/plain": [
       "0.7723102585487907"
      ]
     },
     "execution_count": 19,
     "metadata": {},
     "output_type": "execute_result"
    }
   ],
   "source": [
    "Lr = LogisticRegression(multi_class='ovr',solver='liblinear')\n",
    "\n",
    "lrmodel = Lr.fit(xtrain,np.ravel(ytrain))\n",
    "\n",
    "accuracy = lrmodel.score(xtest,ytest)\n",
    "accuracy"
   ]
  },
  {
   "cell_type": "code",
   "execution_count": 20,
   "id": "fa579c3c",
   "metadata": {},
   "outputs": [
    {
     "name": "stdout",
     "output_type": "stream",
     "text": [
      "Ingredient: Index(['bell_pepper', 'chicken_broth', 'ginger', 'peanut_oil', 'scallion',\n",
      "       'sherry', 'shrimp', 'soy_sauce', 'starch', 'thai_pepper'],\n",
      "      dtype='object')\n",
      "cuisine: chinese\n"
     ]
    }
   ],
   "source": [
    "print(f\"Ingredient: {xtest.iloc[50][xtest.iloc[50]!=0].keys()}\")\n",
    "print(f\"cuisine: {ytest.iloc[50]}\")"
   ]
  },
  {
   "cell_type": "code",
   "execution_count": 21,
   "id": "e9f154f0",
   "metadata": {},
   "outputs": [
    {
     "data": {
      "text/html": [
       "<div>\n",
       "<style scoped>\n",
       "    .dataframe tbody tr th:only-of-type {\n",
       "        vertical-align: middle;\n",
       "    }\n",
       "\n",
       "    .dataframe tbody tr th {\n",
       "        vertical-align: top;\n",
       "    }\n",
       "\n",
       "    .dataframe thead th {\n",
       "        text-align: right;\n",
       "    }\n",
       "</style>\n",
       "<table border=\"1\" class=\"dataframe\">\n",
       "  <thead>\n",
       "    <tr style=\"text-align: right;\">\n",
       "      <th></th>\n",
       "      <th>0</th>\n",
       "      <th>1</th>\n",
       "      <th>2</th>\n",
       "      <th>3</th>\n",
       "      <th>4</th>\n",
       "      <th>5</th>\n",
       "      <th>6</th>\n",
       "      <th>7</th>\n",
       "      <th>8</th>\n",
       "      <th>9</th>\n",
       "      <th>...</th>\n",
       "      <th>1189</th>\n",
       "      <th>1190</th>\n",
       "      <th>1191</th>\n",
       "      <th>1192</th>\n",
       "      <th>1193</th>\n",
       "      <th>1194</th>\n",
       "      <th>1195</th>\n",
       "      <th>1196</th>\n",
       "      <th>1197</th>\n",
       "      <th>1198</th>\n",
       "    </tr>\n",
       "  </thead>\n",
       "  <tbody>\n",
       "    <tr>\n",
       "      <th>thai</th>\n",
       "      <td>0.696810</td>\n",
       "      <td>0.000555</td>\n",
       "      <td>0.213510</td>\n",
       "      <td>0.229505</td>\n",
       "      <td>0.236042</td>\n",
       "      <td>0.164586</td>\n",
       "      <td>0.014925</td>\n",
       "      <td>0.025823</td>\n",
       "      <td>0.093366</td>\n",
       "      <td>0.001273</td>\n",
       "      <td>...</td>\n",
       "      <td>0.236530</td>\n",
       "      <td>0.036617</td>\n",
       "      <td>0.877897</td>\n",
       "      <td>0.015214</td>\n",
       "      <td>0.251516</td>\n",
       "      <td>0.005977</td>\n",
       "      <td>0.004337</td>\n",
       "      <td>0.269838</td>\n",
       "      <td>0.220394</td>\n",
       "      <td>0.457301</td>\n",
       "    </tr>\n",
       "    <tr>\n",
       "      <th>korean</th>\n",
       "      <td>0.169898</td>\n",
       "      <td>0.922327</td>\n",
       "      <td>0.145010</td>\n",
       "      <td>0.026526</td>\n",
       "      <td>0.023239</td>\n",
       "      <td>0.044523</td>\n",
       "      <td>0.104053</td>\n",
       "      <td>0.671004</td>\n",
       "      <td>0.132332</td>\n",
       "      <td>0.154081</td>\n",
       "      <td>...</td>\n",
       "      <td>0.000178</td>\n",
       "      <td>0.005787</td>\n",
       "      <td>0.000202</td>\n",
       "      <td>0.142871</td>\n",
       "      <td>0.011821</td>\n",
       "      <td>0.001498</td>\n",
       "      <td>0.000003</td>\n",
       "      <td>0.098303</td>\n",
       "      <td>0.675007</td>\n",
       "      <td>0.285833</td>\n",
       "    </tr>\n",
       "    <tr>\n",
       "      <th>chinese</th>\n",
       "      <td>0.114891</td>\n",
       "      <td>0.075757</td>\n",
       "      <td>0.078773</td>\n",
       "      <td>0.061930</td>\n",
       "      <td>0.468721</td>\n",
       "      <td>0.618747</td>\n",
       "      <td>0.019861</td>\n",
       "      <td>0.169972</td>\n",
       "      <td>0.111347</td>\n",
       "      <td>0.784740</td>\n",
       "      <td>...</td>\n",
       "      <td>0.004414</td>\n",
       "      <td>0.956575</td>\n",
       "      <td>0.001057</td>\n",
       "      <td>0.074068</td>\n",
       "      <td>0.733643</td>\n",
       "      <td>0.003443</td>\n",
       "      <td>0.005749</td>\n",
       "      <td>0.190972</td>\n",
       "      <td>0.102373</td>\n",
       "      <td>0.060368</td>\n",
       "    </tr>\n",
       "    <tr>\n",
       "      <th>japanese</th>\n",
       "      <td>0.011468</td>\n",
       "      <td>0.000548</td>\n",
       "      <td>0.562587</td>\n",
       "      <td>0.005723</td>\n",
       "      <td>0.159018</td>\n",
       "      <td>0.168897</td>\n",
       "      <td>0.860234</td>\n",
       "      <td>0.131956</td>\n",
       "      <td>0.487294</td>\n",
       "      <td>0.059792</td>\n",
       "      <td>...</td>\n",
       "      <td>0.008805</td>\n",
       "      <td>0.000805</td>\n",
       "      <td>0.006330</td>\n",
       "      <td>0.763388</td>\n",
       "      <td>0.001933</td>\n",
       "      <td>0.000459</td>\n",
       "      <td>0.000002</td>\n",
       "      <td>0.285490</td>\n",
       "      <td>0.002185</td>\n",
       "      <td>0.194780</td>\n",
       "    </tr>\n",
       "    <tr>\n",
       "      <th>indian</th>\n",
       "      <td>0.006933</td>\n",
       "      <td>0.000813</td>\n",
       "      <td>0.000121</td>\n",
       "      <td>0.676317</td>\n",
       "      <td>0.112980</td>\n",
       "      <td>0.003248</td>\n",
       "      <td>0.000927</td>\n",
       "      <td>0.001244</td>\n",
       "      <td>0.175661</td>\n",
       "      <td>0.000114</td>\n",
       "      <td>...</td>\n",
       "      <td>0.750074</td>\n",
       "      <td>0.000217</td>\n",
       "      <td>0.114514</td>\n",
       "      <td>0.004459</td>\n",
       "      <td>0.001086</td>\n",
       "      <td>0.988624</td>\n",
       "      <td>0.989909</td>\n",
       "      <td>0.155396</td>\n",
       "      <td>0.000040</td>\n",
       "      <td>0.001718</td>\n",
       "    </tr>\n",
       "  </tbody>\n",
       "</table>\n",
       "<p>5 rows × 1199 columns</p>\n",
       "</div>"
      ],
      "text/plain": [
       "              0         1         2         3         4         5     \\\n",
       "thai      0.696810  0.000555  0.213510  0.229505  0.236042  0.164586   \n",
       "korean    0.169898  0.922327  0.145010  0.026526  0.023239  0.044523   \n",
       "chinese   0.114891  0.075757  0.078773  0.061930  0.468721  0.618747   \n",
       "japanese  0.011468  0.000548  0.562587  0.005723  0.159018  0.168897   \n",
       "indian    0.006933  0.000813  0.000121  0.676317  0.112980  0.003248   \n",
       "\n",
       "              6         7         8         9     ...      1189      1190  \\\n",
       "thai      0.014925  0.025823  0.093366  0.001273  ...  0.236530  0.036617   \n",
       "korean    0.104053  0.671004  0.132332  0.154081  ...  0.000178  0.005787   \n",
       "chinese   0.019861  0.169972  0.111347  0.784740  ...  0.004414  0.956575   \n",
       "japanese  0.860234  0.131956  0.487294  0.059792  ...  0.008805  0.000805   \n",
       "indian    0.000927  0.001244  0.175661  0.000114  ...  0.750074  0.000217   \n",
       "\n",
       "              1191      1192      1193      1194      1195      1196  \\\n",
       "thai      0.877897  0.015214  0.251516  0.005977  0.004337  0.269838   \n",
       "korean    0.000202  0.142871  0.011821  0.001498  0.000003  0.098303   \n",
       "chinese   0.001057  0.074068  0.733643  0.003443  0.005749  0.190972   \n",
       "japanese  0.006330  0.763388  0.001933  0.000459  0.000002  0.285490   \n",
       "indian    0.114514  0.004459  0.001086  0.988624  0.989909  0.155396   \n",
       "\n",
       "              1197      1198  \n",
       "thai      0.220394  0.457301  \n",
       "korean    0.675007  0.285833  \n",
       "chinese   0.102373  0.060368  \n",
       "japanese  0.002185  0.194780  \n",
       "indian    0.000040  0.001718  \n",
       "\n",
       "[5 rows x 1199 columns]"
      ]
     },
     "execution_count": 21,
     "metadata": {},
     "output_type": "execute_result"
    }
   ],
   "source": [
    "test = xtest.iloc[50].values.reshape(-1, 1).T\n",
    "prob = lrmodel.predict_proba(xtest)\n",
    "classes = lrmodel.classes_\n",
    "result_df = pd.DataFrame(data = prob,columns=classes)\n",
    "\n",
    "topped = result_df.T.sort_values(by=[0],ascending=[False])\n",
    "topped.head()"
   ]
  },
  {
   "cell_type": "code",
   "execution_count": 22,
   "id": "87ee11e4",
   "metadata": {},
   "outputs": [
    {
     "name": "stdout",
     "output_type": "stream",
     "text": [
      "              precision    recall  f1-score   support\n",
      "\n",
      "     chinese       0.72      0.65      0.68       237\n",
      "      indian       0.91      0.88      0.89       245\n",
      "    japanese       0.62      0.77      0.69       234\n",
      "      korean       0.83      0.81      0.82       248\n",
      "        thai       0.81      0.75      0.78       235\n",
      "\n",
      "    accuracy                           0.77      1199\n",
      "   macro avg       0.78      0.77      0.77      1199\n",
      "weighted avg       0.78      0.77      0.77      1199\n",
      "\n"
     ]
    }
   ],
   "source": [
    "y_predict = lrmodel.predict(xtest)\n",
    "print(classification_report(ytest,y_predict))"
   ]
  },
  {
   "cell_type": "code",
   "execution_count": null,
   "id": "420af57b",
   "metadata": {},
   "outputs": [],
   "source": []
  }
 ],
 "metadata": {
  "kernelspec": {
   "display_name": "Python 3 (ipykernel)",
   "language": "python",
   "name": "python3"
  },
  "language_info": {
   "codemirror_mode": {
    "name": "ipython",
    "version": 3
   },
   "file_extension": ".py",
   "mimetype": "text/x-python",
   "name": "python",
   "nbconvert_exporter": "python",
   "pygments_lexer": "ipython3",
   "version": "3.11.7"
  }
 },
 "nbformat": 4,
 "nbformat_minor": 5
}
