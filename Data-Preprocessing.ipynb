{
 "cells": [
  {
   "cell_type": "code",
   "execution_count": 7,
   "id": "98ea8afb",
   "metadata": {},
   "outputs": [],
   "source": [
    "import pandas as pd\n",
    "import numpy as np"
   ]
  },
  {
   "cell_type": "code",
   "execution_count": 15,
   "id": "e622c891",
   "metadata": {},
   "outputs": [
    {
     "data": {
      "text/html": [
       "<div>\n",
       "<style scoped>\n",
       "    .dataframe tbody tr th:only-of-type {\n",
       "        vertical-align: middle;\n",
       "    }\n",
       "\n",
       "    .dataframe tbody tr th {\n",
       "        vertical-align: top;\n",
       "    }\n",
       "\n",
       "    .dataframe thead th {\n",
       "        text-align: right;\n",
       "    }\n",
       "</style>\n",
       "<table border=\"1\" class=\"dataframe\">\n",
       "  <thead>\n",
       "    <tr style=\"text-align: right;\">\n",
       "      <th></th>\n",
       "      <th>Salary</th>\n",
       "      <th>Gender</th>\n",
       "      <th>Age</th>\n",
       "      <th>PhD</th>\n",
       "    </tr>\n",
       "  </thead>\n",
       "  <tbody>\n",
       "    <tr>\n",
       "      <th>0</th>\n",
       "      <td>140.0</td>\n",
       "      <td>1</td>\n",
       "      <td>47</td>\n",
       "      <td>1</td>\n",
       "    </tr>\n",
       "    <tr>\n",
       "      <th>1</th>\n",
       "      <td>30.0</td>\n",
       "      <td>0</td>\n",
       "      <td>65</td>\n",
       "      <td>1</td>\n",
       "    </tr>\n",
       "    <tr>\n",
       "      <th>2</th>\n",
       "      <td>35.1</td>\n",
       "      <td>0</td>\n",
       "      <td>56</td>\n",
       "      <td>0</td>\n",
       "    </tr>\n",
       "    <tr>\n",
       "      <th>3</th>\n",
       "      <td>30.0</td>\n",
       "      <td>1</td>\n",
       "      <td>23</td>\n",
       "      <td>0</td>\n",
       "    </tr>\n",
       "    <tr>\n",
       "      <th>4</th>\n",
       "      <td>80.0</td>\n",
       "      <td>0</td>\n",
       "      <td>53</td>\n",
       "      <td>1</td>\n",
       "    </tr>\n",
       "    <tr>\n",
       "      <th>...</th>\n",
       "      <td>...</td>\n",
       "      <td>...</td>\n",
       "      <td>...</td>\n",
       "      <td>...</td>\n",
       "    </tr>\n",
       "    <tr>\n",
       "      <th>95</th>\n",
       "      <td>18.6</td>\n",
       "      <td>1</td>\n",
       "      <td>26</td>\n",
       "      <td>0</td>\n",
       "    </tr>\n",
       "    <tr>\n",
       "      <th>96</th>\n",
       "      <td>152.0</td>\n",
       "      <td>1</td>\n",
       "      <td>56</td>\n",
       "      <td>1</td>\n",
       "    </tr>\n",
       "    <tr>\n",
       "      <th>97</th>\n",
       "      <td>1.8</td>\n",
       "      <td>1</td>\n",
       "      <td>28</td>\n",
       "      <td>0</td>\n",
       "    </tr>\n",
       "    <tr>\n",
       "      <th>98</th>\n",
       "      <td>35.0</td>\n",
       "      <td>0</td>\n",
       "      <td>44</td>\n",
       "      <td>0</td>\n",
       "    </tr>\n",
       "    <tr>\n",
       "      <th>99</th>\n",
       "      <td>4.0</td>\n",
       "      <td>0</td>\n",
       "      <td>24</td>\n",
       "      <td>0</td>\n",
       "    </tr>\n",
       "  </tbody>\n",
       "</table>\n",
       "<p>100 rows × 4 columns</p>\n",
       "</div>"
      ],
      "text/plain": [
       "    Salary  Gender  Age  PhD\n",
       "0    140.0       1   47    1\n",
       "1     30.0       0   65    1\n",
       "2     35.1       0   56    0\n",
       "3     30.0       1   23    0\n",
       "4     80.0       0   53    1\n",
       "..     ...     ...  ...  ...\n",
       "95    18.6       1   26    0\n",
       "96   152.0       1   56    1\n",
       "97     1.8       1   28    0\n",
       "98    35.0       0   44    0\n",
       "99     4.0       0   24    0\n",
       "\n",
       "[100 rows x 4 columns]"
      ]
     },
     "execution_count": 15,
     "metadata": {},
     "output_type": "execute_result"
    }
   ],
   "source": [
    "df=pd.read_csv(r\"C:\\Users\\Phavour\\Downloads\\Personal python project\\Demo Datasets\\Lesson 3\\SalaryGender.csv\",index_col=0)\n",
    "df"
   ]
  },
  {
   "cell_type": "code",
   "execution_count": 19,
   "id": "ceb6911a",
   "metadata": {},
   "outputs": [
    {
     "data": {
      "text/plain": [
       "array([140.  ,  30.  ,  35.1 ,  30.  ,  80.  ,  30.  ,  60.  ,  31.1 ,\n",
       "       125.  ,  51.  ,   3.  ,  46.  , 150.  ,   3.  , 130.  ,  15.  ,\n",
       "       130.  ,  84.  , 190.  ,  74.  ,  73.  ,  10.  ,  50.  ,   7.  ,\n",
       "         9.5 ,  15.2 ,  28.6 ,  20.  ,  72.  ,  81.  , 100.  ,  90.  ,\n",
       "        90.  ,  35.  ,  30.  ,  25.  ,  52.  ,   9.  ,  63.  ,  72.  ,\n",
       "        16.  ,  92.  , 106.  ,   2.5 ,   9.  ,  32.  ,  32.  ,  55.  ,\n",
       "        52.  ,  28.  ,  20.  ,  14.7 ,  22.3 ,  34.8 ,  84.  ,  19.  ,\n",
       "       160.  ,  65.  ,  55.  ,   4.6 , 102.  ,  20.  ,  62.  ,  55.  ,\n",
       "        45.6 ,  40.  ,  24.  ,  35.  ,  48.  ,  20.  ,  40.7 ,  15.  ,\n",
       "         0.25, 152.  ,  39.8 ,  12.  ,  30.  , 120.  ,   1.7 ,  36.  ,\n",
       "        96.  ,  38.  ,  90.  ,   9.  ,  25.8 ,  22.  ,  38.8 ,  72.  ,\n",
       "        89.  ,  41.  ,  89.  ,  25.  ,  52.  , 115.  ,  66.  ,  18.6 ,\n",
       "       152.  ,   1.8 ,  35.  ,   4.  ])"
      ]
     },
     "execution_count": 19,
     "metadata": {},
     "output_type": "execute_result"
    }
   ],
   "source": [
    "# converting salary column to an array\n",
    "SalArray =np.array(df[\"Salary\"])\n",
    "SalArray"
   ]
  },
  {
   "cell_type": "code",
   "execution_count": 22,
   "id": "11e1bb2f",
   "metadata": {},
   "outputs": [
    {
     "data": {
      "text/plain": [
       "array([[140.  ,   1.  ,  47.  ,   1.  ],\n",
       "       [ 30.  ,   0.  ,  65.  ,   1.  ],\n",
       "       [ 35.1 ,   0.  ,  56.  ,   0.  ],\n",
       "       [ 30.  ,   1.  ,  23.  ,   0.  ],\n",
       "       [ 80.  ,   0.  ,  53.  ,   1.  ],\n",
       "       [ 30.  ,   0.  ,  27.  ,   0.  ],\n",
       "       [ 60.  ,   1.  ,  53.  ,   0.  ],\n",
       "       [ 31.1 ,   0.  ,  30.  ,   0.  ],\n",
       "       [125.  ,   1.  ,  44.  ,   1.  ],\n",
       "       [ 51.  ,   1.  ,  63.  ,   1.  ],\n",
       "       [  3.  ,   1.  ,  22.  ,   0.  ],\n",
       "       [ 46.  ,   1.  ,  59.  ,   0.  ],\n",
       "       [150.  ,   1.  ,  60.  ,   1.  ],\n",
       "       [  3.  ,   1.  ,  28.  ,   0.  ],\n",
       "       [130.  ,   1.  ,  65.  ,   0.  ],\n",
       "       [ 15.  ,   0.  ,  25.  ,   0.  ],\n",
       "       [130.  ,   1.  ,  65.  ,   0.  ],\n",
       "       [ 84.  ,   0.  ,  47.  ,   1.  ],\n",
       "       [190.  ,   1.  ,  66.  ,   1.  ],\n",
       "       [ 74.  ,   1.  ,  45.  ,   1.  ],\n",
       "       [ 73.  ,   0.  ,  46.  ,   0.  ],\n",
       "       [ 10.  ,   0.  ,  24.  ,   0.  ],\n",
       "       [ 50.  ,   0.  ,  60.  ,   0.  ],\n",
       "       [  7.  ,   0.  ,  63.  ,   0.  ],\n",
       "       [  9.5 ,   0.  ,  27.  ,   0.  ],\n",
       "       [ 15.2 ,   1.  ,  66.  ,   1.  ],\n",
       "       [ 28.6 ,   1.  ,  36.  ,   1.  ],\n",
       "       [ 20.  ,   0.  ,  30.  ,   0.  ],\n",
       "       [ 72.  ,   0.  ,  51.  ,   1.  ],\n",
       "       [ 81.  ,   1.  ,  65.  ,   1.  ],\n",
       "       [100.  ,   0.  ,  45.  ,   1.  ],\n",
       "       [ 90.  ,   0.  ,  52.  ,   1.  ],\n",
       "       [ 90.  ,   0.  ,  54.  ,   1.  ],\n",
       "       [ 35.  ,   1.  ,  30.  ,   0.  ],\n",
       "       [ 30.  ,   0.  ,  52.  ,   0.  ],\n",
       "       [ 25.  ,   1.  ,  26.  ,   0.  ],\n",
       "       [ 52.  ,   0.  ,  49.  ,   0.  ],\n",
       "       [  9.  ,   0.  ,  22.  ,   0.  ],\n",
       "       [ 63.  ,   1.  ,  34.  ,   1.  ],\n",
       "       [ 72.  ,   1.  ,  60.  ,   0.  ],\n",
       "       [ 16.  ,   1.  ,  28.  ,   0.  ],\n",
       "       [ 92.  ,   0.  ,  58.  ,   1.  ],\n",
       "       [106.  ,   1.  ,  77.  ,   1.  ],\n",
       "       [  2.5 ,   1.  ,  67.  ,   0.  ],\n",
       "       [  9.  ,   0.  ,  27.  ,   0.  ],\n",
       "       [ 32.  ,   0.  ,  48.  ,   1.  ],\n",
       "       [ 32.  ,   0.  ,  45.  ,   0.  ],\n",
       "       [ 55.  ,   1.  ,  49.  ,   1.  ],\n",
       "       [ 52.  ,   1.  ,  36.  ,   0.  ],\n",
       "       [ 28.  ,   0.  ,  65.  ,   1.  ],\n",
       "       [ 20.  ,   0.  ,  32.  ,   0.  ],\n",
       "       [ 14.7 ,   0.  ,  49.  ,   0.  ],\n",
       "       [ 22.3 ,   1.  ,  67.  ,   0.  ],\n",
       "       [ 34.8 ,   0.  ,  22.  ,   0.  ],\n",
       "       [ 84.  ,   0.  ,  49.  ,   1.  ],\n",
       "       [ 19.  ,   1.  ,  43.  ,   0.  ],\n",
       "       [160.  ,   1.  ,  61.  ,   1.  ],\n",
       "       [ 65.  ,   0.  ,  43.  ,   1.  ],\n",
       "       [ 55.  ,   0.  ,  52.  ,   0.  ],\n",
       "       [  4.6 ,   1.  ,  51.  ,   0.  ],\n",
       "       [102.  ,   1.  ,  66.  ,   1.  ],\n",
       "       [ 20.  ,   1.  ,  29.  ,   0.  ],\n",
       "       [ 62.  ,   0.  ,  62.  ,   0.  ],\n",
       "       [ 55.  ,   1.  ,  56.  ,   1.  ],\n",
       "       [ 45.6 ,   1.  ,  61.  ,   0.  ],\n",
       "       [ 40.  ,   0.  ,  56.  ,   0.  ],\n",
       "       [ 24.  ,   0.  ,  41.  ,   0.  ],\n",
       "       [ 35.  ,   1.  ,  24.  ,   0.  ],\n",
       "       [ 48.  ,   0.  ,  60.  ,   0.  ],\n",
       "       [ 20.  ,   0.  ,  43.  ,   0.  ],\n",
       "       [ 40.7 ,   0.  ,  57.  ,   0.  ],\n",
       "       [ 15.  ,   1.  ,  23.  ,   0.  ],\n",
       "       [  0.25,   0.  ,  53.  ,   0.  ],\n",
       "       [152.  ,   1.  ,  71.  ,   1.  ],\n",
       "       [ 39.8 ,   0.  ,  20.  ,   0.  ],\n",
       "       [ 12.  ,   0.  ,  27.  ,   0.  ],\n",
       "       [ 30.  ,   1.  ,  69.  ,   1.  ],\n",
       "       [120.  ,   1.  ,  58.  ,   1.  ],\n",
       "       [  1.7 ,   1.  ,  37.  ,   0.  ],\n",
       "       [ 36.  ,   1.  ,  32.  ,   1.  ],\n",
       "       [ 96.  ,   1.  ,  33.  ,   1.  ],\n",
       "       [ 38.  ,   0.  ,  32.  ,   1.  ],\n",
       "       [ 90.  ,   1.  ,  60.  ,   0.  ],\n",
       "       [  9.  ,   1.  ,  71.  ,   0.  ],\n",
       "       [ 25.8 ,   0.  ,  30.  ,   0.  ],\n",
       "       [ 22.  ,   0.  ,  62.  ,   0.  ],\n",
       "       [ 38.8 ,   0.  ,  54.  ,   0.  ],\n",
       "       [ 72.  ,   1.  ,  42.  ,   1.  ],\n",
       "       [ 89.  ,   1.  ,  62.  ,   0.  ],\n",
       "       [ 41.  ,   0.  ,  51.  ,   1.  ],\n",
       "       [ 89.  ,   1.  ,  71.  ,   1.  ],\n",
       "       [ 25.  ,   0.  ,  29.  ,   0.  ],\n",
       "       [ 52.  ,   1.  ,  55.  ,   1.  ],\n",
       "       [115.  ,   0.  ,  54.  ,   0.  ],\n",
       "       [ 66.  ,   0.  ,  55.  ,   1.  ],\n",
       "       [ 18.6 ,   1.  ,  26.  ,   0.  ],\n",
       "       [152.  ,   1.  ,  56.  ,   1.  ],\n",
       "       [  1.8 ,   1.  ,  28.  ,   0.  ],\n",
       "       [ 35.  ,   0.  ,  44.  ,   0.  ],\n",
       "       [  4.  ,   0.  ,  24.  ,   0.  ]])"
      ]
     },
     "execution_count": 22,
     "metadata": {},
     "output_type": "execute_result"
    }
   ],
   "source": [
    "# converting the whole dataframe to an array\n",
    "dfArray = np.array(df)\n",
    "dfArray"
   ]
  },
  {
   "cell_type": "code",
   "execution_count": 24,
   "id": "a08c24d2",
   "metadata": {},
   "outputs": [
    {
     "data": {
      "text/plain": [
       "(100, 4)"
      ]
     },
     "execution_count": 24,
     "metadata": {},
     "output_type": "execute_result"
    }
   ],
   "source": [
    "df.shape"
   ]
  },
  {
   "cell_type": "code",
   "execution_count": 28,
   "id": "423ef7f2",
   "metadata": {},
   "outputs": [
    {
     "data": {
      "text/plain": [
       "dtype('float64')"
      ]
     },
     "execution_count": 28,
     "metadata": {},
     "output_type": "execute_result"
    }
   ],
   "source": [
    "df[\"Salary\"].dtype"
   ]
  },
  {
   "cell_type": "code",
   "execution_count": 29,
   "id": "0344ae72",
   "metadata": {},
   "outputs": [
    {
     "data": {
      "text/html": [
       "<div>\n",
       "<style scoped>\n",
       "    .dataframe tbody tr th:only-of-type {\n",
       "        vertical-align: middle;\n",
       "    }\n",
       "\n",
       "    .dataframe tbody tr th {\n",
       "        vertical-align: top;\n",
       "    }\n",
       "\n",
       "    .dataframe thead th {\n",
       "        text-align: right;\n",
       "    }\n",
       "</style>\n",
       "<table border=\"1\" class=\"dataframe\">\n",
       "  <thead>\n",
       "    <tr style=\"text-align: right;\">\n",
       "      <th></th>\n",
       "      <th>Salary</th>\n",
       "      <th>Gender</th>\n",
       "      <th>Age</th>\n",
       "      <th>PhD</th>\n",
       "    </tr>\n",
       "  </thead>\n",
       "  <tbody>\n",
       "    <tr>\n",
       "      <th>0</th>\n",
       "      <td>140.0</td>\n",
       "      <td>1</td>\n",
       "      <td>47</td>\n",
       "      <td>1</td>\n",
       "    </tr>\n",
       "    <tr>\n",
       "      <th>1</th>\n",
       "      <td>30.0</td>\n",
       "      <td>0</td>\n",
       "      <td>65</td>\n",
       "      <td>1</td>\n",
       "    </tr>\n",
       "    <tr>\n",
       "      <th>2</th>\n",
       "      <td>35.1</td>\n",
       "      <td>0</td>\n",
       "      <td>56</td>\n",
       "      <td>0</td>\n",
       "    </tr>\n",
       "    <tr>\n",
       "      <th>3</th>\n",
       "      <td>30.0</td>\n",
       "      <td>1</td>\n",
       "      <td>23</td>\n",
       "      <td>0</td>\n",
       "    </tr>\n",
       "    <tr>\n",
       "      <th>4</th>\n",
       "      <td>80.0</td>\n",
       "      <td>0</td>\n",
       "      <td>53</td>\n",
       "      <td>1</td>\n",
       "    </tr>\n",
       "    <tr>\n",
       "      <th>...</th>\n",
       "      <td>...</td>\n",
       "      <td>...</td>\n",
       "      <td>...</td>\n",
       "      <td>...</td>\n",
       "    </tr>\n",
       "    <tr>\n",
       "      <th>95</th>\n",
       "      <td>18.6</td>\n",
       "      <td>1</td>\n",
       "      <td>26</td>\n",
       "      <td>0</td>\n",
       "    </tr>\n",
       "    <tr>\n",
       "      <th>96</th>\n",
       "      <td>152.0</td>\n",
       "      <td>1</td>\n",
       "      <td>56</td>\n",
       "      <td>1</td>\n",
       "    </tr>\n",
       "    <tr>\n",
       "      <th>97</th>\n",
       "      <td>1.8</td>\n",
       "      <td>1</td>\n",
       "      <td>28</td>\n",
       "      <td>0</td>\n",
       "    </tr>\n",
       "    <tr>\n",
       "      <th>98</th>\n",
       "      <td>35.0</td>\n",
       "      <td>0</td>\n",
       "      <td>44</td>\n",
       "      <td>0</td>\n",
       "    </tr>\n",
       "    <tr>\n",
       "      <th>99</th>\n",
       "      <td>4.0</td>\n",
       "      <td>0</td>\n",
       "      <td>24</td>\n",
       "      <td>0</td>\n",
       "    </tr>\n",
       "  </tbody>\n",
       "</table>\n",
       "<p>100 rows × 4 columns</p>\n",
       "</div>"
      ],
      "text/plain": [
       "    Salary  Gender  Age  PhD\n",
       "0    140.0       1   47    1\n",
       "1     30.0       0   65    1\n",
       "2     35.1       0   56    0\n",
       "3     30.0       1   23    0\n",
       "4     80.0       0   53    1\n",
       "..     ...     ...  ...  ...\n",
       "95    18.6       1   26    0\n",
       "96   152.0       1   56    1\n",
       "97     1.8       1   28    0\n",
       "98    35.0       0   44    0\n",
       "99     4.0       0   24    0\n",
       "\n",
       "[100 rows x 4 columns]"
      ]
     },
     "execution_count": 29,
     "metadata": {},
     "output_type": "execute_result"
    }
   ],
   "source": [
    "df"
   ]
  },
  {
   "cell_type": "code",
   "execution_count": 34,
   "id": "65f156fe",
   "metadata": {},
   "outputs": [
    {
     "data": {
      "text/html": [
       "<div>\n",
       "<style scoped>\n",
       "    .dataframe tbody tr th:only-of-type {\n",
       "        vertical-align: middle;\n",
       "    }\n",
       "\n",
       "    .dataframe tbody tr th {\n",
       "        vertical-align: top;\n",
       "    }\n",
       "\n",
       "    .dataframe thead th {\n",
       "        text-align: right;\n",
       "    }\n",
       "</style>\n",
       "<table border=\"1\" class=\"dataframe\">\n",
       "  <thead>\n",
       "    <tr style=\"text-align: right;\">\n",
       "      <th></th>\n",
       "      <th>Gender</th>\n",
       "      <th>Age</th>\n",
       "    </tr>\n",
       "  </thead>\n",
       "  <tbody>\n",
       "    <tr>\n",
       "      <th>0</th>\n",
       "      <td>1</td>\n",
       "      <td>47</td>\n",
       "    </tr>\n",
       "    <tr>\n",
       "      <th>1</th>\n",
       "      <td>0</td>\n",
       "      <td>65</td>\n",
       "    </tr>\n",
       "    <tr>\n",
       "      <th>2</th>\n",
       "      <td>0</td>\n",
       "      <td>56</td>\n",
       "    </tr>\n",
       "    <tr>\n",
       "      <th>3</th>\n",
       "      <td>1</td>\n",
       "      <td>23</td>\n",
       "    </tr>\n",
       "    <tr>\n",
       "      <th>4</th>\n",
       "      <td>0</td>\n",
       "      <td>53</td>\n",
       "    </tr>\n",
       "    <tr>\n",
       "      <th>...</th>\n",
       "      <td>...</td>\n",
       "      <td>...</td>\n",
       "    </tr>\n",
       "    <tr>\n",
       "      <th>95</th>\n",
       "      <td>1</td>\n",
       "      <td>26</td>\n",
       "    </tr>\n",
       "    <tr>\n",
       "      <th>96</th>\n",
       "      <td>1</td>\n",
       "      <td>56</td>\n",
       "    </tr>\n",
       "    <tr>\n",
       "      <th>97</th>\n",
       "      <td>1</td>\n",
       "      <td>28</td>\n",
       "    </tr>\n",
       "    <tr>\n",
       "      <th>98</th>\n",
       "      <td>0</td>\n",
       "      <td>44</td>\n",
       "    </tr>\n",
       "    <tr>\n",
       "      <th>99</th>\n",
       "      <td>0</td>\n",
       "      <td>24</td>\n",
       "    </tr>\n",
       "  </tbody>\n",
       "</table>\n",
       "<p>100 rows × 2 columns</p>\n",
       "</div>"
      ],
      "text/plain": [
       "    Gender  Age\n",
       "0        1   47\n",
       "1        0   65\n",
       "2        0   56\n",
       "3        1   23\n",
       "4        0   53\n",
       "..     ...  ...\n",
       "95       1   26\n",
       "96       1   56\n",
       "97       1   28\n",
       "98       0   44\n",
       "99       0   24\n",
       "\n",
       "[100 rows x 2 columns]"
      ]
     },
     "execution_count": 34,
     "metadata": {},
     "output_type": "execute_result"
    }
   ],
   "source": [
    "df.iloc[:,1:3]"
   ]
  },
  {
   "cell_type": "code",
   "execution_count": 54,
   "id": "e9d7199f",
   "metadata": {},
   "outputs": [
    {
     "data": {
      "text/plain": [
       "49.0"
      ]
     },
     "execution_count": 54,
     "metadata": {},
     "output_type": "execute_result"
    }
   ],
   "source": [
    "df[\"Age\"].mode()\n",
    "# df[\"Age\"].size\n",
    "df[\"Age\"].median()"
   ]
  },
  {
   "cell_type": "code",
   "execution_count": 53,
   "id": "648c2b23",
   "metadata": {},
   "outputs": [
    {
     "data": {
      "text/plain": [
       "52.52450000000001"
      ]
     },
     "execution_count": 53,
     "metadata": {},
     "output_type": "execute_result"
    }
   ],
   "source": [
    "# df[\"Salary\"].unique()\n",
    "df[\"Salary\"].mean()\n"
   ]
  },
  {
   "cell_type": "code",
   "execution_count": 55,
   "id": "e182bc26",
   "metadata": {},
   "outputs": [],
   "source": [
    "import matplotlib.pyplot as plt\n",
    "import seaborn as sns"
   ]
  },
  {
   "cell_type": "code",
   "execution_count": 57,
   "id": "47402ff8",
   "metadata": {},
   "outputs": [
    {
     "data": {
      "text/html": [
       "<div>\n",
       "<style scoped>\n",
       "    .dataframe tbody tr th:only-of-type {\n",
       "        vertical-align: middle;\n",
       "    }\n",
       "\n",
       "    .dataframe tbody tr th {\n",
       "        vertical-align: top;\n",
       "    }\n",
       "\n",
       "    .dataframe thead th {\n",
       "        text-align: right;\n",
       "    }\n",
       "</style>\n",
       "<table border=\"1\" class=\"dataframe\">\n",
       "  <thead>\n",
       "    <tr style=\"text-align: right;\">\n",
       "      <th></th>\n",
       "      <th>Salary</th>\n",
       "      <th>Gender</th>\n",
       "      <th>Age</th>\n",
       "      <th>PhD</th>\n",
       "    </tr>\n",
       "  </thead>\n",
       "  <tbody>\n",
       "    <tr>\n",
       "      <th>Salary</th>\n",
       "      <td>1.000000</td>\n",
       "      <td>0.259312</td>\n",
       "      <td>0.477043</td>\n",
       "      <td>0.555560</td>\n",
       "    </tr>\n",
       "    <tr>\n",
       "      <th>Gender</th>\n",
       "      <td>0.259312</td>\n",
       "      <td>1.000000</td>\n",
       "      <td>0.160580</td>\n",
       "      <td>0.184521</td>\n",
       "    </tr>\n",
       "    <tr>\n",
       "      <th>Age</th>\n",
       "      <td>0.477043</td>\n",
       "      <td>0.160580</td>\n",
       "      <td>1.000000</td>\n",
       "      <td>0.353081</td>\n",
       "    </tr>\n",
       "    <tr>\n",
       "      <th>PhD</th>\n",
       "      <td>0.555560</td>\n",
       "      <td>0.184521</td>\n",
       "      <td>0.353081</td>\n",
       "      <td>1.000000</td>\n",
       "    </tr>\n",
       "  </tbody>\n",
       "</table>\n",
       "</div>"
      ],
      "text/plain": [
       "          Salary    Gender       Age       PhD\n",
       "Salary  1.000000  0.259312  0.477043  0.555560\n",
       "Gender  0.259312  1.000000  0.160580  0.184521\n",
       "Age     0.477043  0.160580  1.000000  0.353081\n",
       "PhD     0.555560  0.184521  0.353081  1.000000"
      ]
     },
     "execution_count": 57,
     "metadata": {},
     "output_type": "execute_result"
    }
   ],
   "source": [
    "correlation = df.corr()\n",
    "correlation"
   ]
  },
  {
   "cell_type": "code",
   "execution_count": 61,
   "id": "986ef8cf",
   "metadata": {},
   "outputs": [
    {
     "data": {
      "text/plain": [
       "<Axes: >"
      ]
     },
     "execution_count": 61,
     "metadata": {},
     "output_type": "execute_result"
    },
    {
     "data": {
      "image/png": "[encoded data removed]",
      "text/plain": [
       "<Figure size 640x480 with 2 Axes>"
      ]
     },
     "metadata": {},
     "output_type": "display_data"
    }
   ],
   "source": [
    "sns.heatmap(data=correlation,square=True,cmap=\"bwr\")"
   ]
  },
  {
   "cell_type": "raw",
   "id": "24596234",
   "metadata": {},
   "source": []
  },
  {
   "cell_type": "code",
   "execution_count": null,
   "id": "ec53cac7",
   "metadata": {},
   "outputs": [],
   "source": []
  }
 ],
 "metadata": {
  "kernelspec": {
   "display_name": "Python 3 (ipykernel)",
   "language": "python",
   "name": "python3"
  },
  "language_info": {
   "codemirror_mode": {
    "name": "ipython",
    "version": 3
   },
   "file_extension": ".py",
   "mimetype": "text/x-python",
   "name": "python",
   "nbconvert_exporter": "python",
   "pygments_lexer": "ipython3",
   "version": "3.11.7"
  }
 },
 "nbformat": 4,
 "nbformat_minor": 5
}
