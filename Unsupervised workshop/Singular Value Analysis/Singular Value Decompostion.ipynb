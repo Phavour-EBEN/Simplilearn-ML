{
 "cells": [
  {
   "cell_type": "code",
   "execution_count": 4,
   "id": "20d55a58",
   "metadata": {},
   "outputs": [
    {
     "data": {
      "text/html": [
       "<div>\n",
       "<style scoped>\n",
       "    .dataframe tbody tr th:only-of-type {\n",
       "        vertical-align: middle;\n",
       "    }\n",
       "\n",
       "    .dataframe tbody tr th {\n",
       "        vertical-align: top;\n",
       "    }\n",
       "\n",
       "    .dataframe thead th {\n",
       "        text-align: right;\n",
       "    }\n",
       "</style>\n",
       "<table border=\"1\" class=\"dataframe\">\n",
       "  <thead>\n",
       "    <tr style=\"text-align: right;\">\n",
       "      <th></th>\n",
       "      <th>post 1</th>\n",
       "      <th>post 2</th>\n",
       "      <th>post 3</th>\n",
       "      <th>post 4</th>\n",
       "    </tr>\n",
       "    <tr>\n",
       "      <th>words</th>\n",
       "      <th></th>\n",
       "      <th></th>\n",
       "      <th></th>\n",
       "      <th></th>\n",
       "    </tr>\n",
       "  </thead>\n",
       "  <tbody>\n",
       "    <tr>\n",
       "      <th>ice</th>\n",
       "      <td>1</td>\n",
       "      <td>5</td>\n",
       "      <td>7</td>\n",
       "      <td>6</td>\n",
       "    </tr>\n",
       "    <tr>\n",
       "      <th>snow</th>\n",
       "      <td>5</td>\n",
       "      <td>8</td>\n",
       "      <td>6</td>\n",
       "      <td>7</td>\n",
       "    </tr>\n",
       "    <tr>\n",
       "      <th>ghost</th>\n",
       "      <td>8</td>\n",
       "      <td>7</td>\n",
       "      <td>6</td>\n",
       "      <td>3</td>\n",
       "    </tr>\n",
       "    <tr>\n",
       "      <th>tahoe</th>\n",
       "      <td>2</td>\n",
       "      <td>6</td>\n",
       "      <td>8</td>\n",
       "      <td>4</td>\n",
       "    </tr>\n",
       "    <tr>\n",
       "      <th>puck</th>\n",
       "      <td>5</td>\n",
       "      <td>7</td>\n",
       "      <td>6</td>\n",
       "      <td>5</td>\n",
       "    </tr>\n",
       "  </tbody>\n",
       "</table>\n",
       "</div>"
      ],
      "text/plain": [
       "       post 1  post 2  post 3  post 4\n",
       "words                                \n",
       "ice         1       5       7       6\n",
       "snow        5       8       6       7\n",
       "ghost       8       7       6       3\n",
       "tahoe       2       6       8       4\n",
       "puck        5       7       6       5"
      ]
     },
     "execution_count": 4,
     "metadata": {},
     "output_type": "execute_result"
    }
   ],
   "source": [
    "import pandas as pd\n",
    "c_names = ['post 1','post 2','post 3','post 4']\n",
    "words = ['ice','snow','ghost','tahoe','puck']\n",
    "\n",
    "data = pd.DataFrame([[1,5,7,6],\n",
    "              [5,8,6,7],\n",
    "              [8,7,6,3],\n",
    "              [2,6,8,4],\n",
    "              [5,7,6,5]      ],index=words,columns=c_names)\n",
    "\n",
    "data.index.name='words'\n",
    "data"
   ]
  },
  {
   "cell_type": "code",
   "execution_count": 14,
   "id": "c11ec17d",
   "metadata": {},
   "outputs": [
    {
     "name": "stdout",
     "output_type": "stream",
     "text": [
      "[[-0.38 -0.58 -0.57 -0.44]\n",
      " [-0.84 -0.11  0.37  0.39]\n",
      " [ 0.02  0.11 -0.68  0.72]\n",
      " [ 0.39 -0.8   0.27  0.37]]\n"
     ]
    }
   ],
   "source": [
    "import numpy as np\n",
    "\n",
    "U, sigma, V = np.linalg.svd(data)\n",
    "print(np.round(V,decimals=2))"
   ]
  },
  {
   "cell_type": "code",
   "execution_count": 15,
   "id": "642c09d4",
   "metadata": {},
   "outputs": [
    {
     "data": {
      "text/plain": [
       "array([[-0.38719655,  0.60400693,  0.05040548,  0.69299189,  0.04975932],\n",
       "       [-0.50984079, -0.01844793,  0.67251474, -0.28509849, -0.45405377],\n",
       "       [-0.4632444 , -0.69042621, -0.34639905,  0.38287526, -0.20525718],\n",
       "       [-0.41288125,  0.37528582, -0.63780806, -0.49821968, -0.18348748],\n",
       "       [-0.45285197, -0.13155799,  0.13561636, -0.20896119,  0.8459084 ]])"
      ]
     },
     "execution_count": 15,
     "metadata": {},
     "output_type": "execute_result"
    }
   ],
   "source": [
    "U"
   ]
  },
  {
   "cell_type": "code",
   "execution_count": 16,
   "id": "66b9afad",
   "metadata": {},
   "outputs": [
    {
     "data": {
      "text/plain": [
       "array([25.58342131,  5.87513065,  2.90317096,  0.73688006])"
      ]
     },
     "execution_count": 16,
     "metadata": {},
     "output_type": "execute_result"
    }
   ],
   "source": [
    "sigma"
   ]
  },
  {
   "cell_type": "code",
   "execution_count": 18,
   "id": "bb062d88",
   "metadata": {},
   "outputs": [
    {
     "data": {
      "text/html": [
       "<div>\n",
       "<style scoped>\n",
       "    .dataframe tbody tr th:only-of-type {\n",
       "        vertical-align: middle;\n",
       "    }\n",
       "\n",
       "    .dataframe tbody tr th {\n",
       "        vertical-align: top;\n",
       "    }\n",
       "\n",
       "    .dataframe thead th {\n",
       "        text-align: right;\n",
       "    }\n",
       "</style>\n",
       "<table border=\"1\" class=\"dataframe\">\n",
       "  <thead>\n",
       "    <tr style=\"text-align: right;\">\n",
       "      <th></th>\n",
       "      <th>post 1</th>\n",
       "      <th>post 2</th>\n",
       "      <th>post 3</th>\n",
       "      <th>post 4</th>\n",
       "    </tr>\n",
       "  </thead>\n",
       "  <tbody>\n",
       "    <tr>\n",
       "      <th>ice</th>\n",
       "      <td>0.797317</td>\n",
       "      <td>5.390680</td>\n",
       "      <td>6.962497</td>\n",
       "      <td>5.704938</td>\n",
       "    </tr>\n",
       "    <tr>\n",
       "      <th>snow</th>\n",
       "      <td>5.052706</td>\n",
       "      <td>7.610626</td>\n",
       "      <td>7.387536</td>\n",
       "      <td>5.667163</td>\n",
       "    </tr>\n",
       "    <tr>\n",
       "      <th>ghost</th>\n",
       "      <td>7.904580</td>\n",
       "      <td>7.339283</td>\n",
       "      <td>5.238556</td>\n",
       "      <td>3.622035</td>\n",
       "    </tr>\n",
       "    <tr>\n",
       "      <th>tahoe</th>\n",
       "      <td>2.172338</td>\n",
       "      <td>5.917533</td>\n",
       "      <td>6.836316</td>\n",
       "      <td>5.474038</td>\n",
       "    </tr>\n",
       "    <tr>\n",
       "      <th>puck</th>\n",
       "      <td>5.054442</td>\n",
       "      <td>6.832455</td>\n",
       "      <td>6.309807</td>\n",
       "      <td>4.772608</td>\n",
       "    </tr>\n",
       "  </tbody>\n",
       "</table>\n",
       "</div>"
      ],
      "text/plain": [
       "         post 1    post 2    post 3    post 4\n",
       "ice    0.797317  5.390680  6.962497  5.704938\n",
       "snow   5.052706  7.610626  7.387536  5.667163\n",
       "ghost  7.904580  7.339283  5.238556  3.622035\n",
       "tahoe  2.172338  5.917533  6.836316  5.474038\n",
       "puck   5.054442  6.832455  6.309807  4.772608"
      ]
     },
     "execution_count": 18,
     "metadata": {},
     "output_type": "execute_result"
    }
   ],
   "source": [
    "A_approx = np.matrix(U[:, :2])*np.diag(sigma[:2])*np.matrix(V[:2,:])\n",
    "pd.DataFrame(A_approx,index=words,columns=c_names)"
   ]
  },
  {
   "cell_type": "code",
   "execution_count": 19,
   "id": "1b178f5f",
   "metadata": {},
   "outputs": [
    {
     "name": "stdout",
     "output_type": "stream",
     "text": [
      "         post 1    post 2    post 3    post 4\n",
      "words                                        \n",
      "ice    0.202683 -0.390680  0.037503  0.295062\n",
      "snow  -0.052706  0.389374 -1.387536  1.332837\n",
      "ghost  0.095420 -0.339283  0.761444 -0.622035\n",
      "tahoe -0.172338  0.082467  1.163684 -1.474038\n",
      "puck  -0.054442  0.167545 -0.309807  0.227392\n"
     ]
    }
   ],
   "source": [
    "print(data-A_approx)"
   ]
  },
  {
   "cell_type": "code",
   "execution_count": 22,
   "id": "970114d1",
   "metadata": {},
   "outputs": [
    {
     "ename": "TypeError",
     "evalue": "len() takes exactly one argument (3 given)",
     "output_type": "error",
     "traceback": [
      "\u001b[1;31m---------------------------------------------------------------------------\u001b[0m",
      "\u001b[1;31mTypeError\u001b[0m                                 Traceback (most recent call last)",
      "Cell \u001b[1;32mIn[22], line 6\u001b[0m\n\u001b[0;32m      4\u001b[0m plt\u001b[38;5;241m.\u001b[39mxticks(\u001b[38;5;28mrange\u001b[39m(\u001b[38;5;28mlen\u001b[39m(c_names)))\n\u001b[0;32m      5\u001b[0m plt\u001b[38;5;241m.\u001b[39myticks(\u001b[38;5;28mrange\u001b[39m(\u001b[38;5;28mlen\u001b[39m(words)))\n\u001b[1;32m----> 6\u001b[0m plt\u001b[38;5;241m.\u001b[39mylim([\u001b[38;5;28mlen\u001b[39m(words,\u001b[38;5;241m-\u001b[39m\u001b[38;5;241m1.5\u001b[39m,\u001b[38;5;241m-\u001b[39m\u001b[38;5;241m.5\u001b[39m)])\n\u001b[0;32m      7\u001b[0m ax\u001b[38;5;241m=\u001b[39mplt\u001b[38;5;241m.\u001b[39mgca()\n\u001b[0;32m      9\u001b[0m ax\u001b[38;5;241m.\u001b[39mset_xticklabels(c_names)\n",
      "\u001b[1;31mTypeError\u001b[0m: len() takes exactly one argument (3 given)"
     ]
    },
    {
     "data": {
      "image/png": "[encoded data removed]",
      "text/plain": [
       "<Figure size 640x480 with 1 Axes>"
      ]
     },
     "metadata": {},
     "output_type": "display_data"
    }
   ],
   "source": [
    "import matplotlib.pyplot as plt\n",
    "\n",
    "plt.imshow(V,interpolation='None')\n",
    "plt.xticks(range(len(c_names)))\n",
    "plt.yticks(range(len(words)))\n",
    "plt.ylim([len(words),-1.5,-.5])\n",
    "ax=plt.gca()\n",
    "\n",
    "ax.set_xticklabels(c_names)\n",
    "ax.set_yticklabels(range(1,len(word)+1))\n",
    "\n",
    "plt.colorbar"
   ]
  },
  {
   "cell_type": "code",
   "execution_count": null,
   "id": "831647c8",
   "metadata": {},
   "outputs": [],
   "source": []
  }
 ],
 "metadata": {
  "kernelspec": {
   "display_name": "Python 3 (ipykernel)",
   "language": "python",
   "name": "python3"
  },
  "language_info": {
   "codemirror_mode": {
    "name": "ipython",
    "version": 3
   },
   "file_extension": ".py",
   "mimetype": "text/x-python",
   "name": "python",
   "nbconvert_exporter": "python",
   "pygments_lexer": "ipython3",
   "version": "3.11.7"
  }
 },
 "nbformat": 4,
 "nbformat_minor": 5
}
